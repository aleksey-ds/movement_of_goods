{
 "cells": [
  {
   "cell_type": "markdown",
   "id": "9af4e30b-068e-4216-9ded-b035e4217e3a",
   "metadata": {},
   "source": [
    "Имея данные продаж за пол года, мне нужно было сделать перераспределение остатков товара для текущего момента, а также выделить\n",
    "позиции неликвидного товара.\n",
    "Вся сложность заключается в ограниченности этих данных. У меня есть только несколько excel файлов. В каждом из них содержиться информация за \n",
    "один месяц формата (Место хранения, Начало, Приход, Перемещение, Поступление от поставщика, Расход, Отчет о розничных продажах, Перемещение, \n",
    "Списание запасов, Конец) для 5 разных торговых точек. Причем из-за особенностей торговой деятельности получить данные о продажах я могу только из колонки\n",
    "Расход и только за весь месяц(нет возможности узнать сколько именно времени товар был доступен). \n",
    "Также стояла цель реализовать все это не для конкретной позиции товара, а для группы. \n",
    "Речь идет о магазинах, которые занимаются продажей электронных сигарет\n",
    "Все дейсвия нужно производить с товарам игнорируя вкусы, цвета и тп(то есть работать исключительно с определенными группами)\n",
    "В первую очередь необходимо разобраться с делением товара на определенные группы\n",
    "Далее нужно было объединить продажи с 2 точек в одну(опять же особенности конкретного бизнеса)\n",
    "После этого я перешел к самому распределению остатков. При этом опираться просто на продажи товара не совсем корректно, так как товар мог быть\n",
    "какое-то время не доступен на каких-то точках, в то время пока он продавался на других. Поэтмоу я ввел определенную классификацию товаров.\n",
    "А именно сделал маркера доступности товара и для каждого такого маркера определенным образов оценил потенциальные продажи в каждом месяце.\n",
    "По договоренности с бизнесом эта оценка была очень осторожной. Лучше было занизить потенциальные продажи, чем преувеличить - сделать консервативный прогноз.\n",
    "После чего для каждого месяца были заданы веса, чтобы в большей степени мы опирались на более свежие данные.\n",
    "Далее расчитаны взвешанные продажи и составлена пропорция для каждого товара, как он продавался в 4 магазинах в течении полугода.\n",
    "После чего актуальный остаток был разбит на нужные части. В итоге получилась таблица формата: Имя_товара Откуда Куда Кол-во, согласно которой\n",
    "можно было бы делать перемещения между магазинами.\n",
    "Что же касается неликвидных позиций, определенная характеристика для них была дана бизнесом, мне же нужно было выделить группу таких товор для каждого магазина\n",
    "Все данные были обезличины для демонстрации. Заменены названия магазинов и частично заменены названия товаров. Для этого в каждой категории товарв\n",
    "я выделил ключевые слова(названия компаний, производителй и тп) и на их основе создал словарь, где значениями стали названия формата 'fabricator_of..'.\n",
    "С помощью таких словарей я заменил все оригинальные названия на обезличинные"
   ]
  },
  {
   "cell_type": "code",
   "execution_count": 3,
   "id": "8b5d8a04-ac91-48fb-9c25-b082bce654cb",
   "metadata": {},
   "outputs": [],
   "source": [
    "import pandas as pd\n",
    "import numpy as np\n",
    "import re"
   ]
  },
  {
   "cell_type": "code",
   "execution_count": 5,
   "id": "6b44a270-3113-4b36-8859-615c9aac178b",
   "metadata": {},
   "outputs": [],
   "source": [
    "# Считываем файл и задаем день текущего месяца\n",
    "df_12_2024 = pd.read_excel('12.2024_demo.xlsx')\n",
    "df_11_2024 = pd.read_excel('11.2024_demo.xlsx')\n",
    "df_01_2025 = pd.read_excel('01.2025_demo.xlsx')\n",
    "df_02_2025 = pd.read_excel('02.2025_demo.xlsx')\n",
    "df_03_2025 = pd.read_excel('03.2025_demo.xlsx')\n",
    "df_04_2025 = pd.read_excel('04.2025_demo.xlsx')\n",
    "df_cur_14 = pd.read_excel('14.05.2025_demo.xlsx')\n",
    "current_date = 14"
   ]
  },
  {
   "cell_type": "code",
   "execution_count": 6,
   "id": "57e39fa4-29a9-41df-a4b9-ac08a94348f6",
   "metadata": {},
   "outputs": [],
   "source": [
    "# Разделяем каждый ДФ на несколько по разным точкам, используя для этого названия точек, которые были в excel. (Названия заменены)\n",
    "def get_dfs(df):\n",
    "    # Задаем индесы для деления на разыне магазины\n",
    "    ind_4 = list(df['Место хранения']).index('4 shop')\n",
    "    ind_17 = list(df['Место хранения']).index('17 shop')\n",
    "    ind_6 = list(df['Место хранения']).index('6 shop')\n",
    "    ind_8 = list(df['Место хранения']).index('8 shop')\n",
    "    ind_t = list(df['Место хранения']).index('t shop')\n",
    "    # Инициализируем ДФ для каждого магазина\n",
    "    df_4 = df.iloc[ind_4+1:ind_17,:][['Место хранения','Начало','Приход','Расход','Конец']]\n",
    "    df_17 = df.iloc[ind_17+1:ind_6,:][['Место хранения','Начало','Приход','Расход','Конец']]\n",
    "    df_6 = df.iloc[ind_6+1:ind_8,:][['Место хранения','Начало','Приход','Расход','Конец']]\n",
    "    df_8 = df.iloc[ind_8+1:ind_t,:][['Место хранения','Начало','Приход','Расход','Конец']]\n",
    "    df_t = df.iloc[ind_t+1:,:][['Место хранения','Начало','Приход','Расход','Конец']]\n",
    "    return df_4, df_17, df_6, df_8, df_t"
   ]
  },
  {
   "cell_type": "code",
   "execution_count": 7,
   "id": "ca0e35e2-5bc7-4ec5-8814-a8ea029ebe0c",
   "metadata": {},
   "outputs": [],
   "source": [
    "# Создаем отдельные ДФ для каждого месяца и филиала\n",
    "df_4_12_2024, df_17_12_2024, df_6_12_2024, df_8_12_2024, df_t_12_2024 = get_dfs(df_12_2024)\n",
    "df_4_11_2024, df_17_11_2024, df_6_11_2024, df_8_11_2024, df_t_11_2024 = get_dfs(df_11_2024)\n",
    "df_4_01_2025, df_17_01_2025, df_6_01_2025, df_8_01_2025, df_t_01_2025 = get_dfs(df_01_2025)\n",
    "df_4_02_2025, df_17_02_2025, df_6_02_2025, df_8_02_2025, df_t_02_2025 = get_dfs(df_02_2025)\n",
    "df_4_03_2025, df_17_03_2025, df_6_03_2025, df_8_03_2025, df_t_03_2025 = get_dfs(df_03_2025)\n",
    "df_4_04_2025, df_17_04_2025, df_6_04_2025, df_8_04_2025, df_t_04_2025 = get_dfs(df_04_2025)\n",
    "df_4_cur_14, df_17_cur_14, df_6_cur_14, df_8_cur_14, df_t_cur_14 = get_dfs(df_cur_14)"
   ]
  },
  {
   "cell_type": "code",
   "execution_count": 8,
   "id": "724a5b7a-d417-4726-a9fa-e8fca5d2b151",
   "metadata": {},
   "outputs": [],
   "source": [
    "# Функция, которая возвращает часть строки до ключевого слова из списка\n",
    "def cut_string(input_string, keywords):\n",
    "    for word in keywords: # Проходим циклом по всем ключевым словам из заданного списка\n",
    "        string = word.search(input_string) # Ищем первое вхождение ключевого слова в строку\n",
    "        if string: # Если такое вхождение есть\n",
    "            end_pos = string.end() # Находим индекс последнего символа ключевого слова +1 \n",
    "            return input_string[:end_pos].strip() # Оставляем только часть до конца ключвого слова\n",
    "    return input_string.strip() # Если ключевого слова не найдено, оставляем строку без изменений"
   ]
  },
  {
   "cell_type": "code",
   "execution_count": 9,
   "id": "c41f87bc-ce9f-4bb6-95d3-3f4f255bf2ad",
   "metadata": {},
   "outputs": [],
   "source": [
    "# Функция пребразует ДФ, объединяя позиции по вкусам, цветам и тп. Возвращает готовый отредактированный ДФ\n",
    "# Для начала я хочу поделить все товары на категории. Так как часть товаров из разных категорий имеет одинаковую часть в названии, из-за чего\n",
    "# нет возможности сразу собрать в одну позициюб все вкусы.\n",
    "# Например: Жидкость производитель_1 какой-то вкус 100мл и Жидкость производитель_1 какой-то вкус 30мл. Это 2 совершенно разных товаров и каждому из них\n",
    "# должны соответствовать только именно его вкусы.\n",
    "# Деление на категории происходит по каким-то ключевым словам для каждой категории, где-то это названия проиводителей, где-то определенным символы.\n",
    "# Названия производителей изменены в этой версии кода для того, чтобы данные не несли никакой ценности.\n",
    "def editing_df(i):\n",
    "    # Создаем словари для разных позиций товара\n",
    "    compiled_keywords_for_devices = [\n",
    "        re.compile(r'Mini', re.IGNORECASE),\n",
    "        re.compile(r'Nano', re.IGNORECASE),\n",
    "        re.compile(r'Cube', re.IGNORECASE),\n",
    "        re.compile(r'Pro', re.IGNORECASE),\n",
    "        re.compile(r'Plus', re.IGNORECASE),\n",
    "        re.compile(r'Kit', re.IGNORECASE),\n",
    "        re.compile(r'Max', re.IGNORECASE),\n",
    "        re.compile(r'\\b[IVXLCDM]+\\b', re.IGNORECASE),  \n",
    "        re.compile(r'\\b\\d+\\b'),                        \n",
    "        re.compile(r'\\b[A-Z]+\\b'),                     \n",
    "        re.compile(r'\\b[A-Z0-9]+\\b')                   \n",
    "    ]\n",
    "\n",
    "    compiled_keywords_for_su = [\n",
    "        re.compile(r'\\b\\d+\\b'),\n",
    "        re.compile(r'\\b[A-Z0-9]+\\b'),\n",
    "        re.compile(r'HighPro'),\n",
    "        re.compile(r'soPro'),\n",
    "        re.compile(r'Max'),\n",
    "        re.compile(r'Tikobar')\n",
    "    ]\n",
    "\n",
    "    compiled_keywords_for_aroma = [\n",
    "        re.compile(r'Rabbit'),\n",
    "        re.compile(r'fabricator_of_aroma_1'),\n",
    "        re.compile(r'Flavor'),\n",
    "        re.compile(r'Shock'),\n",
    "        re.compile(r'Песец'),\n",
    "        re.compile(r'fabricator_of_aroma_17')\n",
    "    ]\n",
    "    \n",
    "    # Для всех магазинов делим товар на подкатегории, используя слова маркеры для каждой категории, для некоторых категорий оригинальные маркера \n",
    "    # заменены на fabricator_of. В оригинальной версии кода использованы свои списки для этого\n",
    "    i['Категория'] = np.where((i['Место хранения'].str.startswith('1-')) | (i['Место хранения'].str.startswith('Другое')), 'other', 0)\n",
    "    i['Категория'] = np.where((i['Место хранения'].str.contains('Жевательный табак')) & (i['Категория'] == '0'), 'tobacco', i['Категория'])\n",
    "    i['Категория'] = np.where((i['Место хранения'].str.contains(r'Картридж|Испаритель|Зарядное устройство|Заготовка|RBA|Испарители', regex=True))&(i['Категория'] == '0'), 'consumables', i['Категория'])\n",
    "    i['Категория'] = np.where((i['Место хранения'].str.contains(r'Бак|fabricator_of_devices_6|fabricator_of_devices_9|fabricator_of_devices_8|fabricator_of_devices_3|fabricator_of_devices_10|fabricator_of_devices_16|fabricator_of_devices_4|fabricator_of_devices_1|fabricator_of_devices_5|fabricator_of_devices_7|fabricator_of_devices_14|fabricator_of_devices_17|fabricator_of_devices_11|fabricator_of_devices_2', regex=True)) & (i['Категория'] == '0'), 'devices', i['Категория'])\n",
    "    i['Категория'] = np.where((i['Место хранения'].str.contains(r'Аккумулятор', flags=re.IGNORECASE, regex=True)) & (i['Категория'] == '0'), 'battery', i['Категория'])\n",
    "    i['Категория'] = np.where((i['Место хранения'].str.contains(r'drink_', regex=True)) & (i['Категория'] == '0'), 'drinks', i['Категория'])\n",
    "    i['Категория'] = np.where((i['Место хранения'].str.contains(r'fabricator_of_su_', flags=re.IGNORECASE, regex=True)) & (i['Категория'] == '0'), 'single_use', i['Категория'])\n",
    "    i['Категория'] = np.where((i['Место хранения'].str.contains(r'Ароматизатор', flags=re.IGNORECASE, regex=True)) & (i['Категория'] == '0'), 'aroma', i['Категория'])\n",
    "    i['Категория'] = np.where((i['Место хранения'].str.contains(r'20(?!\\d)|28(?!\\d)|27(?!\\d)| 12(?!\\d)|strong|hard|Medium|ultra|extra|hybrid|super|salt|fabricator_of_salt_18|fabricator_of_salt_27|fabricator_of_salt_40|fabricator_of_salt_78|30мл 0мг', flags=re.IGNORECASE, regex=True)) & (i['Категория'] == '0'), 'salt', i['Категория'])\n",
    "    i['Категория'] = np.where((i['Место хранения'].str.contains(r'100(?!\\d)|58(?!\\d)|120(?!\\d)|3(?!\\d)|6(?!\\d)|60мл|fabricator_of_classic_17', regex=True)) & (i['Категория'] == '0'), 'classic', i['Категория'])\n",
    "\n",
    "    # Дальше я пользуюсь особенностями наиминований в разных категориях\n",
    "    # Для Солевых жидкостей убираем разделение по вкусам, оставляя только название серии\n",
    "    df_salt = i.loc[i['Категория'] == 'salt',:].copy()\n",
    "    df_salt['claster'] = np.where(df_salt['Место хранения'].str.startswith('Жидкость для ЭСДН'), df_salt['Место хранения'].str.split().str[3], np.where(df_salt['Место хранения'].str.startswith('Жидкость The'), df_salt['Место хранения'].str.split().str[2],df_salt['Место хранения'].str.split().str[1]))\n",
    "    df_salt = df_salt.groupby('claster').agg({'Начало':'sum' , 'Приход':'sum','Расход':'sum','Конец':'sum'})\n",
    "    df_salt = df_salt.reset_index()\n",
    "    df_salt['category'] = 'salt'\n",
    "\n",
    "    # Для Устройств убираем разделение по цветам, оставляя только название серии\n",
    "    df_devices = i.loc[i['Категория'] == 'devices',:].copy()\n",
    "    df_devices['name'] = df_devices['Место хранения'].apply(cut_string, args = (compiled_keywords_for_devices,))\n",
    "    df_devices = df_devices.groupby('name').agg({'Начало':'sum' , 'Приход':'sum','Расход':'sum','Конец':'sum'})\n",
    "    df_devices = df_devices.reset_index()\n",
    "    df_devices['category'] = 'devices'\n",
    "\n",
    "    # Для Одноразок убираем разделение по вкусам, оставляя только название серии\n",
    "    df_single_use = i.loc[i['Категория'] == 'single_use',:].copy()\n",
    "    df_single_use['name'] = df_single_use['Место хранения'].apply(cut_string, args = (compiled_keywords_for_su,))\n",
    "    df_single_use = df_single_use.groupby('name').agg({'Начало':'sum' , 'Приход':'sum','Расход':'sum','Конец':'sum'})\n",
    "    df_single_use = df_single_use.reset_index()\n",
    "    df_single_use['category'] = 'single_use'\n",
    "\n",
    "    # Для Аром убираем разделение по вкусам, оставляя только название серии\n",
    "    df_aroma = i.loc[i['Категория'] == 'aroma',:].copy()\n",
    "    df_aroma['name'] = df_aroma['Место хранения'].apply(cut_string, args = (compiled_keywords_for_aroma,))\n",
    "    df_aroma = df_aroma.groupby('name').agg({'Начало':'sum' , 'Приход':'sum','Расход':'sum','Конец':'sum'})\n",
    "    df_aroma = df_aroma.reset_index()\n",
    "    df_aroma['category'] = 'aroma'\n",
    "\n",
    "    # Для классических жидкостей убираем разделение по вкусам, оставляя только название серии\n",
    "    df_classic = i.loc[i['Категория'] == 'classic',:].copy()\n",
    "    df_classic['claster'] = np.where(df_classic['Место хранения'].str.startswith('Жидкость для ЭСДН'), df_classic['Место хранения'].str.split().str[3], df_classic['Место хранения'].str.split().str[1])\n",
    "    df_classic = df_classic.groupby('claster').agg({'Начало':'sum' , 'Приход':'sum','Расход':'sum','Конец':'sum'})\n",
    "    df_classic = df_classic.reset_index()\n",
    "    df_classic['category'] = 'classic'\n",
    "\n",
    "    # В этих категориях очень мало товаров, либо они все уникальны, поэтому их можно использовать без дополнительного объединения\n",
    "    # Инициируем остальные части для всех категорий\n",
    "    df_drinks = i.loc[i['Категория'] == 'drinks',:].copy()\n",
    "    df_battery = i.loc[i['Категория'] == 'battery',:].copy()\n",
    "    df_consumables = i.loc[i['Категория'] == 'consumables',:].copy()\n",
    "    df_tobacco = i.loc[i['Категория'] == 'tobacco',:].copy()\n",
    "    df_other = i.loc[i['Категория'] == 'other',:].copy()\n",
    "\n",
    "    # Приводим все к одному виду\n",
    "    df_other = df_other.set_axis(['name', 'start', 'replenishment', 'sold', 'end', 'category'], axis=1)\n",
    "    df_drinks = df_drinks.set_axis(['name', 'start', 'replenishment', 'sold', 'end', 'category'], axis=1)\n",
    "    df_battery = df_battery.set_axis(['name', 'start', 'replenishment', 'sold', 'end', 'category'], axis=1)\n",
    "    df_consumables = df_consumables.set_axis(['name', 'start', 'replenishment', 'sold', 'end', 'category'], axis=1)\n",
    "    df_tobacco = df_tobacco.set_axis(['name', 'start', 'replenishment', 'sold', 'end', 'category'], axis=1)\n",
    "    df_aroma = df_aroma.set_axis(['name', 'start', 'replenishment', 'sold', 'end', 'category'], axis=1)\n",
    "    df_salt = df_salt.set_axis(['name', 'start', 'replenishment', 'sold', 'end', 'category'], axis=1)\n",
    "    df_classic = df_classic.set_axis(['name', 'start', 'replenishment', 'sold', 'end', 'category'], axis=1)\n",
    "    df_single_use = df_single_use.set_axis(['name', 'start', 'replenishment', 'sold', 'end', 'category'], axis=1)\n",
    "    df_devices = df_devices.set_axis(['name', 'start', 'replenishment', 'sold', 'end', 'category'], axis=1)\n",
    "\n",
    "    # Инициируем пустой ДФ для формирования общей базы\n",
    "    i = pd.DataFrame(columns=['name', 'start', 'replenishment', 'sold', 'end', 'category'])\n",
    "\n",
    "    # Собираем все в один ДФ\n",
    "    i = pd.concat([i, df_other])\n",
    "    i = pd.concat([i, df_drinks])\n",
    "    i = pd.concat([i, df_battery])\n",
    "    i = pd.concat([i, df_consumables])\n",
    "    i = pd.concat([i, df_tobacco])\n",
    "    i = pd.concat([i, df_aroma])\n",
    "    i = pd.concat([i, df_salt])\n",
    "    i = pd.concat([i, df_classic])\n",
    "    i = pd.concat([i, df_single_use])\n",
    "    i = pd.concat([i, df_devices])\n",
    "\n",
    "    # Для того, чтоб в последствии группировка по заванию товара работала как я хочу, а именно объединяла товары только из одной категории, я добавляю \n",
    "    # название категории в колонку name\n",
    "    i['name'] = i['name'].str.cat(i['category'], sep = ' ')\n",
    "    i.drop('category', axis=1, inplace = True)\n",
    "    \n",
    "    return i"
   ]
  },
  {
   "cell_type": "code",
   "execution_count": 10,
   "id": "2ccc6c90-43f6-4442-882a-f050c728b387",
   "metadata": {},
   "outputs": [],
   "source": [
    "# Преобразуем ДФ_17 и ДФ_Т для объеденения их продаж, эти 2 точки работают как одна, поэтому их продажи нужно суммировать\n",
    "df_17_11_2024 = editing_df(df_17_11_2024)\n",
    "df_17_12_2024 = editing_df(df_17_12_2024)\n",
    "df_17_01_2025 = editing_df(df_17_01_2025)\n",
    "df_17_02_2025 = editing_df(df_17_02_2025)\n",
    "df_17_03_2025 = editing_df(df_17_03_2025)\n",
    "df_17_04_2025 = editing_df(df_17_04_2025)\n",
    "df_17_cur_14 = editing_df(df_17_cur_14)\n",
    "\n",
    "df_t_11_2024 = editing_df(df_t_11_2024)\n",
    "df_t_12_2024 = editing_df(df_t_12_2024)\n",
    "df_t_01_2025 = editing_df(df_t_01_2025)\n",
    "df_t_02_2025 = editing_df(df_t_02_2025)\n",
    "df_t_03_2025 = editing_df(df_t_03_2025)\n",
    "df_t_04_2025 = editing_df(df_t_04_2025)\n",
    "df_t_cur_14 = editing_df(df_t_cur_14)"
   ]
  },
  {
   "cell_type": "code",
   "execution_count": 11,
   "id": "f563c24f-9fb4-4fde-8f30-79d8b0980682",
   "metadata": {},
   "outputs": [],
   "source": [
    "# Объединяем 17 и 4, суммируя все одинаковые позиции товара и сохраняя различные\n",
    "df_17_11_2024 = pd.concat([df_17_11_2024, df_t_11_2024])\n",
    "df_17_11_2024 = df_17_11_2024.groupby('name', as_index=False).agg({'start': 'sum', 'replenishment': 'sum', 'sold': 'sum', 'end': 'sum'})\n",
    "df_17_12_2024 = pd.concat([df_17_12_2024, df_t_12_2024])\n",
    "df_17_12_2024 = df_17_12_2024.groupby('name', as_index=False).agg({'start': 'sum', 'replenishment': 'sum', 'sold': 'sum', 'end': 'sum'})\n",
    "df_17_01_2025 = pd.concat([df_17_01_2025, df_t_01_2025])\n",
    "df_17_01_2025 = df_17_01_2025.groupby('name', as_index=False).agg({'start': 'sum', 'replenishment': 'sum', 'sold': 'sum', 'end': 'sum'})\n",
    "df_17_02_2025 = pd.concat([df_17_02_2025, df_t_02_2025])\n",
    "df_17_02_2025 = df_17_02_2025.groupby('name', as_index=False).agg({'start': 'sum', 'replenishment': 'sum', 'sold': 'sum', 'end': 'sum'})\n",
    "df_17_03_2025 = pd.concat([df_17_03_2025, df_t_03_2025])\n",
    "df_17_03_2025 = df_17_03_2025.groupby('name', as_index=False).agg({'start': 'sum', 'replenishment': 'sum', 'sold': 'sum', 'end': 'sum'})\n",
    "df_17_04_2025 = pd.concat([df_17_04_2025, df_t_04_2025])\n",
    "df_17_04_2025 = df_17_04_2025.groupby('name', as_index=False).agg({'start': 'sum', 'replenishment': 'sum', 'sold': 'sum', 'end': 'sum'})\n",
    "df_17_cur_14 = pd.concat([df_17_cur_14, df_t_cur_14])\n",
    "df_17_cur_14 = df_17_cur_14.groupby('name', as_index=False).agg({'start': 'sum', 'replenishment': 'sum', 'sold': 'sum', 'end': 'sum'})"
   ]
  },
  {
   "cell_type": "code",
   "execution_count": 12,
   "id": "16c17f85-9bf3-47ca-9a6d-b596c4385fed",
   "metadata": {},
   "outputs": [],
   "source": [
    "# Преобразуем все остальные ФД с помощью функции\n",
    "df_4_11_2024 = editing_df(df_4_11_2024)\n",
    "df_4_12_2024 = editing_df(df_4_12_2024)\n",
    "df_4_01_2025 = editing_df(df_4_01_2025)\n",
    "df_4_02_2025 = editing_df(df_4_02_2025)\n",
    "df_4_03_2025 = editing_df(df_4_03_2025)\n",
    "df_4_04_2025 = editing_df(df_4_04_2025)\n",
    "df_4_cur_14 = editing_df(df_4_cur_14)\n",
    "\n",
    "df_6_11_2024 = editing_df(df_6_11_2024)\n",
    "df_6_12_2024 = editing_df(df_6_12_2024)\n",
    "df_6_01_2025 = editing_df(df_6_01_2025)\n",
    "df_6_02_2025 = editing_df(df_6_02_2025)\n",
    "df_6_03_2025 = editing_df(df_6_03_2025)\n",
    "df_6_04_2025 = editing_df(df_6_04_2025)\n",
    "df_6_cur_14 = editing_df(df_6_cur_14)\n",
    "\n",
    "df_8_11_2024 = editing_df(df_8_11_2024)\n",
    "df_8_12_2024 = editing_df(df_8_12_2024)\n",
    "df_8_01_2025 = editing_df(df_8_01_2025)\n",
    "df_8_02_2025 = editing_df(df_8_02_2025)\n",
    "df_8_03_2025 = editing_df(df_8_03_2025)\n",
    "df_8_04_2025 = editing_df(df_8_04_2025)\n",
    "df_8_cur_14 = editing_df(df_8_cur_14)"
   ]
  },
  {
   "cell_type": "code",
   "execution_count": 13,
   "id": "5f8128bc-86d2-4f5f-b0ea-168e8ff59a05",
   "metadata": {},
   "outputs": [],
   "source": [
    "# Поместим данные о продажах по каждой точке в отдельный ДФ, чтоб было удобнее работать, лишь добавлю пометку месяца\n",
    "# Для 4 доавляем колонку месяца, в том числе и текущий с пометкой 10\n",
    "df_4_11_2024['month'] = 1\n",
    "df_4_12_2024['month'] = 2\n",
    "df_4_01_2025['month'] = 3\n",
    "df_4_02_2025['month'] = 4\n",
    "df_4_03_2025['month'] = 5\n",
    "df_4_04_2025['month'] = 6\n",
    "df_4_cur_14['month'] = 10\n",
    "# Для 6 доавляем колонку месяца, в том числе и текущий с пометкой 10\n",
    "df_6_11_2024['month'] = 1\n",
    "df_6_12_2024['month'] = 2\n",
    "df_6_01_2025['month'] = 3\n",
    "df_6_02_2025['month'] = 4\n",
    "df_6_03_2025['month'] = 5\n",
    "df_6_04_2025['month'] = 6\n",
    "df_6_cur_14['month'] = 10\n",
    "# Для 8 доавляем колонку месяца, в том числе и текущий с пометкой 10\n",
    "df_8_11_2024['month'] = 1\n",
    "df_8_12_2024['month'] = 2\n",
    "df_8_01_2025['month'] = 3\n",
    "df_8_02_2025['month'] = 4\n",
    "df_8_03_2025['month'] = 5\n",
    "df_8_04_2025['month'] = 6\n",
    "df_8_cur_14['month'] = 10\n",
    "# Для 17 доавляем колонку месяца, в том числе и текущий с пометкой 10\n",
    "df_17_11_2024['month'] = 1\n",
    "df_17_12_2024['month'] = 2\n",
    "df_17_01_2025['month'] = 3\n",
    "df_17_02_2025['month'] = 4\n",
    "df_17_03_2025['month'] = 5\n",
    "df_17_04_2025['month'] = 6\n",
    "df_17_cur_14['month'] = 10"
   ]
  },
  {
   "cell_type": "code",
   "execution_count": 14,
   "id": "9b94f09b-2d28-4073-b864-c67fd13bd412",
   "metadata": {},
   "outputs": [],
   "source": [
    "# Объединяем данные о продажах за все месяца в один ДФ\n",
    "dfs_4 = [df_4_11_2024, df_4_12_2024, df_4_01_2025, df_4_02_2025, df_4_03_2025, df_4_04_2025, df_4_cur_14]\n",
    "dfs_6 = [df_6_11_2024, df_6_12_2024, df_6_01_2025, df_6_02_2025, df_6_03_2025, df_6_04_2025, df_6_cur_14]\n",
    "dfs_8 = [df_8_11_2024, df_8_12_2024, df_8_01_2025, df_8_02_2025, df_8_03_2025, df_8_04_2025, df_8_cur_14]\n",
    "dfs_17 = [df_17_11_2024, df_17_12_2024, df_17_01_2025, df_17_02_2025, df_17_03_2025, df_17_04_2025, df_17_cur_14]\n",
    "df_4 = pd.concat(dfs_4, ignore_index=True)\n",
    "df_6 = pd.concat(dfs_6, ignore_index=True)\n",
    "df_8 = pd.concat(dfs_8, ignore_index=True)\n",
    "df_17 = pd.concat(dfs_17, ignore_index=True)"
   ]
  },
  {
   "cell_type": "code",
   "execution_count": 15,
   "id": "9de03cf5-5b61-4908-9e67-73d2e71a6829",
   "metadata": {},
   "outputs": [],
   "source": [
    "# По договоренности с бизнесом будет считать, что никакие данные не были утеряны в процссе. Значит если у нас информация о товаре хотя бы за один месяц,\n",
    "# значит для всех остальных месяцев этот товар либо еще ни разу не был в наличии, если же он уже когда-то был и в последствии пропал, значит продаж по нему\n",
    "# не было. Меня же интересуют и месяца с нулевыми продажами, для отслеживания неликвидных товаров и составления корректной пропорции.\n",
    "# Созадем функцию, которая заполнит строки значениями NaN для всех пропущенных месяцев\n",
    "def fill_missing_months(df):\n",
    "    all_months = [1, 2, 3, 4, 5, 6, 10]\n",
    "    df = df.copy()\n",
    "    result = []\n",
    "\n",
    "    # Группируем по товару\n",
    "    for name, group in df.groupby('name'):\n",
    "        existing_months = set(group['month'])\n",
    "        missing_months = set(all_months) - existing_months\n",
    "\n",
    "        # Создаем строки для недостающих месяцев\n",
    "        for m in missing_months:\n",
    "            empty_row = {\n",
    "                'name': name,\n",
    "                'start': np.nan,\n",
    "                'replenishment': np.nan,\n",
    "                'sold': np.nan,\n",
    "                'end': np.nan,\n",
    "                'month': m\n",
    "            }\n",
    "            group = pd.concat([group, pd.DataFrame([empty_row])], ignore_index=True)\n",
    "\n",
    "        result.append(group)\n",
    "\n",
    "    cor_df = pd.concat(result).sort_values(by=['name', 'month']).reset_index(drop=True)\n",
    "    return cor_df"
   ]
  },
  {
   "cell_type": "code",
   "execution_count": 23,
   "id": "79793663-ca92-43d5-9387-23f8168bc7c4",
   "metadata": {},
   "outputs": [],
   "source": [
    "# Заполняем все пропущенные месяца значениями NaN для всех ДФ\n",
    "df_4 = fill_missing_months(df_4)\n",
    "df_6 = fill_missing_months(df_6)\n",
    "df_8 = fill_missing_months(df_8)\n",
    "df_17 = fill_missing_months(df_17)"
   ]
  },
  {
   "cell_type": "code",
   "execution_count": 24,
   "id": "78b24fdc-3dd2-49a9-adae-47ed4a9cd8ba",
   "metadata": {},
   "outputs": [],
   "source": [
    "# Создаем функцию с помощью которой, мы проставим маркеры для каждого товара, которые покажут на сколько мы можем опираться на данные о продажах\n",
    "# 0 - товара ранее не было совсем, 1 - товар уже когда-то появлялся, но в начале и в конце месяце его 0\n",
    "# 2 - товар есть или в начале или в конце месяца(продавался не весь месяц), 3 - товар был в наличии весь месяц\n",
    "def assign_markers(df_s):\n",
    "    df = df_s.copy()\n",
    "    df['marker'] = np.nan\n",
    "\n",
    "    # Сортировка по имени и месяцу, чтобы корректно отслеживать предыдущие месяцы\n",
    "    df.sort_values(by=['name', 'month'], inplace=True)\n",
    "\n",
    "    # Группировка по товарам\n",
    "    grouped = df.groupby('name')\n",
    "    # Список для результата\n",
    "    result = []\n",
    "\n",
    "    for name, group in grouped: # Проходим отдельно по каждому товару \n",
    "        group = group.copy()\n",
    "        seen_nonzero = False # Маркер появления до этого месяца\n",
    "\n",
    "        for i, row in group.iterrows(): # Проходим по номеру месяца(i) и данным о продажах в этом месяце по конкретному товару (row)\n",
    "            # Смотрим на данные в начале, конце месяца и приход и продажа\n",
    "            start = row['start']\n",
    "            end = row['end']\n",
    "            repl = row['replenishment']\n",
    "            sold = row['sold']\n",
    "\n",
    "            # Преобразуем к числу, заменим NaN на 0\n",
    "            s = pd.to_numeric(start, errors='coerce') if pd.notna(start) else 0\n",
    "            e = pd.to_numeric(end, errors='coerce') if pd.notna(end) else 0\n",
    "            r = pd.to_numeric(repl, errors='coerce') if pd.notna(repl) else 0\n",
    "            so = pd.to_numeric(sold, errors='coerce') if pd.notna(sold) else 0\n",
    "\n",
    "            if not seen_nonzero and all(val in [0, np.nan] for val in [s, e, r, so]): # Если товар не появлялся до этого месяца и в текущем месяце тоже всё нули или NaN\n",
    "                group.at[i, 'marker'] = 0  # Нет товара до и в этом месяце\n",
    "            else:\n",
    "                seen_nonzero = seen_nonzero or any(val not in [0, np.nan] for val in [s, e, r, so]) # Если хотя бы одно значение в текущем месяце ненулевое, то seen_nonzero становится True\n",
    "                if s == 0 and e == 0: # Если и в начале, и в конце месяца товара не было\n",
    "                    group.at[i, 'marker'] = 1\n",
    "                elif s == 0 or e == 0: # Если только один из показателей (start или end) нулевой\n",
    "                    group.at[i, 'marker'] = 2\n",
    "                else: # Если и в начале, и в конце месяца товар есть\n",
    "                    group.at[i, 'marker'] = 3\n",
    "\n",
    "        result.append(group)\n",
    "\n",
    "    return pd.concat(result).sort_values(by=['name', 'month']).reset_index(drop=True)"
   ]
  },
  {
   "cell_type": "code",
   "execution_count": 29,
   "id": "1047585e-88d3-4a0e-8301-0e21ff8061f9",
   "metadata": {},
   "outputs": [],
   "source": [
    "# Доавляем маркеры ко всем ДФ\n",
    "df_4 = assign_markers(df_4)\n",
    "df_6 = assign_markers(df_6)\n",
    "df_8 = assign_markers(df_8)\n",
    "df_17 = assign_markers(df_17)"
   ]
  },
  {
   "cell_type": "markdown",
   "id": "5e47489a-43f6-4f3e-a847-740def00ca61",
   "metadata": {},
   "source": [
    "Напишем функцию, которая будет добавлять новую колонку potential_sold для кажой строки.\n",
    "Логика расчета значений в этой колонке\n",
    "У меня 3 ветки возмонжых вариантов. 1 - когда есть хотя бы один хороший месяц(маркер 3)\n",
    "2 - когда нет ни одного месяца с маркером 3, но есть хотя бы один с маркером 2\n",
    "3 - когда есть только месяца с маркером 1 или 0\n",
    "Для ветки 1: для месяцев с маркером 3 - оставляем текущее ззначение, для месяцев с маркером 1/2 - среднее между текущем и средним по всем месяцам с маркером 3\n",
    "Для ветки 2: считаем медиану среди всех месяцев с маркером 2. Для месяцев с маркером 1/2 - берем медиану, если она меньше текущего, иначе оставляем текущее\n",
    "Для ветки 3: для месяцев с маркером 1 - берем максимальное среди всех месяцев с маркером 1\n",
    "Для маркера 0, potential_sold всегда будет NaN\n",
    "Все NaN в месяцах, где маркер не 0, NaN будет равен 0, так как я уверен в том, что данные нигде не были утеряны\n",
    "Такая оценка достаточно осторожная, мы лишь немного увеличим продажи для месяцев, где товар не был доступен все время"
   ]
  },
  {
   "cell_type": "code",
   "execution_count": 34,
   "id": "a2953711-7a9b-46c9-aef1-806c16748a07",
   "metadata": {},
   "outputs": [],
   "source": [
    "# Для текущего месяца будет другая логика, поэтому пока отделим эти данные\n",
    "df_4_cur = df_4[df_4['month'] == 10].copy()\n",
    "df_4 = df_4[df_4['month'] != 10].copy()\n",
    "df_6_cur = df_6[df_6['month'] == 10].copy()\n",
    "df_6 = df_6[df_6['month'] != 10].copy()\n",
    "df_8_cur = df_8[df_8['month'] == 10].copy()\n",
    "df_8 = df_8[df_8['month'] != 10].copy()\n",
    "df_17_cur = df_17[df_17['month'] == 10].copy()\n",
    "df_17 = df_17[df_17['month'] != 10].copy()"
   ]
  },
  {
   "cell_type": "code",
   "execution_count": 36,
   "id": "98155fe1-4aae-4748-ad72-1141721dc76e",
   "metadata": {},
   "outputs": [],
   "source": [
    "def calculate_potential_sold(df):\n",
    "    df = df.copy()  # Создаём копию DataFrame, чтобы не изменять оригинал\n",
    "    df['sold'] = pd.to_numeric(df['sold'], errors='coerce').fillna(0)  # Приводим sold к числовому типу, NaN заменяем на 0\n",
    "\n",
    "    result = []  # Список для хранения обработанных подтаблиц по каждому товару\n",
    "\n",
    "    for name, group in df.groupby('name'):  # Итерируемся по каждой группе (один товар)\n",
    "        group = group.sort_values(by='month')  # Сортируем по времени (по колонке month)\n",
    "        markers = group['marker'].tolist()  # Получаем список маркеров для текущего товара\n",
    "        solds = group['sold'].tolist()  # Получаем список продаж для текущего товара\n",
    "        if 3 in markers:  # Ветка 1: если есть хотя бы один маркер 3\n",
    "            avg_marker_3 = group[group['marker'] == 3]['sold'].mean()  # Среднее по sold для маркеров 3\n",
    "            potential = []\n",
    "            for m, s in zip(markers, solds):\n",
    "                if m == 3:\n",
    "                    potential.append(s)  # Просто текущее значение sold\n",
    "                elif m == 0:\n",
    "                    potential.append(np.nan)  # Для marker 0 оставляем NaN\n",
    "                else:\n",
    "                    if s > ((s + avg_marker_3) / 2): # Если текущее больше чем (текущее+среднее_3)/2, то осавим текущее\n",
    "                        potential.append(s)\n",
    "                    else:\n",
    "                        potential.append((s + avg_marker_3) / 2)  # Среднее между sold и средним по marker 3\n",
    "\n",
    "        elif 2 in markers:  # Ветка 2: есть хотя бы один маркер 2, но нет маркера 3\n",
    "            median_marker_2 = group[group['marker'] == 2]['sold'].median()  # Медиана sold при marker 2\n",
    "            potential = []\n",
    "            for m, s in zip(markers, solds):\n",
    "                if m in [1, 2]:\n",
    "                    if s > median_marker_2:\n",
    "                        potential.append(s)  # Оставляем, если текущее значение выше медианы\n",
    "                    else:\n",
    "                        potential.append(median_marker_2)  # Иначе используем медиану\n",
    "                else:\n",
    "                    potential.append(np.nan)  # Для marker 0\n",
    "\n",
    "        elif 1 in markers:  # Ветка 3: есть только marker 1\n",
    "            max_marker_1 = group[group['marker'] == 1]['sold'].max()  # Максимум среди sold с marker 1\n",
    "            potential = []\n",
    "            for m in markers:\n",
    "                if m == 1:\n",
    "                    potential.append(max_marker_1)\n",
    "                else:\n",
    "                    potential.append(np.nan)  # Для marker 0\n",
    "\n",
    "        else:  # Если только marker 0 или вообще ничего нет\n",
    "            potential = [np.nan] * len(group)\n",
    "\n",
    "        group['potential_sold'] = potential  # Добавляем колонку potential_sold к текущему товару\n",
    "        result.append(group)  # Добавляем обработанную группу к результату\n",
    "\n",
    "    return pd.concat(result).reset_index(drop=True)  # Объединяем всё в один DataFrame и сбрасываем индексы"
   ]
  },
  {
   "cell_type": "code",
   "execution_count": 38,
   "id": "8e1a2de5-4f52-49d6-81b2-6fc50c120ddf",
   "metadata": {},
   "outputs": [],
   "source": [
    "# Считайм потенциальные продажи для всех ДФ\n",
    "df_4 = calculate_potential_sold(df_4)\n",
    "df_6 = calculate_potential_sold(df_6)\n",
    "df_8 = calculate_potential_sold(df_8)\n",
    "df_17 = calculate_potential_sold(df_17)"
   ]
  },
  {
   "cell_type": "code",
   "execution_count": 39,
   "id": "881cf162-ae9f-42c3-b9df-8da1d238a1ca",
   "metadata": {},
   "outputs": [],
   "source": [
    "# Добавим колонку потенциальных продаж для текущего месяца\n",
    "df_4_cur['potential_sold'] = np.nan\n",
    "df_6_cur['potential_sold'] = np.nan\n",
    "df_8_cur['potential_sold'] = np.nan\n",
    "df_17_cur['potential_sold'] = np.nan"
   ]
  },
  {
   "cell_type": "code",
   "execution_count": 40,
   "id": "da7ab0f2-a47d-43e4-a52a-fa8d607973d1",
   "metadata": {},
   "outputs": [],
   "source": [
    "# Соберем все данные по месяцам в один ДФ для каждого маназина, также отсортируем данные по названию товара и месяцу\n",
    "df_4 = pd.concat([df_4, df_4_cur])\n",
    "df_4 = df_4.sort_values(by=['name', 'month'])\n",
    "df_6 = pd.concat([df_6, df_6_cur])\n",
    "df_6 = df_6.sort_values(by=['name', 'month'])\n",
    "df_8 = pd.concat([df_8, df_8_cur])\n",
    "df_8 = df_8.sort_values(by=['name', 'month'])\n",
    "df_17 = pd.concat([df_17, df_17_cur])\n",
    "df_17 = df_17.sort_values(by=['name', 'month'])"
   ]
  },
  {
   "cell_type": "code",
   "execution_count": 44,
   "id": "a440d99e-2f48-4eb5-ab29-b4ebc506c1f5",
   "metadata": {},
   "outputs": [],
   "source": [
    "# Функция для расчета потенциальных продаж для текущего месяца. Так как данные довольно ограниченные, и мы не знаем когда именно пришел или закончился товар\n",
    "# Мы не сможем точно проанализировать данные за текущий месяц.\n",
    "# Поэтому будем считать, что если прошло меншье 14 дней, то мы не в праве вообoе опираться на эти данные в дальнейшем\n",
    "# Если же прошло хотя бы 14 дней, будем считать что это актуальные данные без выбросов\n",
    "def potential_sold_for_cur_month(df, current_date):\n",
    "    df = df.copy()\n",
    "    # Если прошло меньше 14 дней — ничего не делаем\n",
    "    if current_date < 14:\n",
    "        return df\n",
    "    df['sold'] = pd.to_numeric(df['sold'], errors='coerce').fillna(0) # Приводим sold к числу и заменяем NaN на 0\n",
    "    is_current_month = df['month'] == 10 # Маска для текущего месяца\n",
    "    # Пересчёт sold для текущего месяца: sold / current_date * 30\n",
    "    df.loc[is_current_month, 'sold'] = (df.loc[is_current_month, 'sold'] / current_date * 30)\n",
    "    # Применяем расчет потенциальных продаж\n",
    "    df = calculate_potential_sold(df)\n",
    "\n",
    "    return df"
   ]
  },
  {
   "cell_type": "code",
   "execution_count": 46,
   "id": "e725dde1-3d1f-4c86-bd2d-30239dc32d82",
   "metadata": {},
   "outputs": [],
   "source": [
    "# Применим функцию с учетом текущей даты\n",
    "df_4 = potential_sold_for_cur_month(df_4, current_date)\n",
    "df_6 = potential_sold_for_cur_month(df_6, current_date)\n",
    "df_8 = potential_sold_for_cur_month(df_8, current_date)\n",
    "df_17 = potential_sold_for_cur_month(df_17, current_date)"
   ]
  },
  {
   "cell_type": "code",
   "execution_count": 47,
   "id": "794e85ff-c89e-46db-b522-37bf5b3215a6",
   "metadata": {},
   "outputs": [],
   "source": [
    "# Мне важно отслеживать изменеия спроса на товар\n",
    "# В связи с тем, что я работаю с продажами малого бизнеса, у меня возможности делать полноценный предикт продаж.\n",
    "# Подобный анализ и подбор весов с помощью дисперсионного анализа не могут считаться статистически значимыми. Поэтому я буду использовать экспоненциальные веса\n",
    "# для определения ценности данных за каждый месяц\n",
    "months = [1, 2, 3, 4, 5, 6, 7]\n",
    "alpha = 0.3 # Коэффицент также был подобран исходя из требований безнеса\n",
    "# Считаем экспоненциальные веса (от старого к новому)\n",
    "month_weights = [(1 - alpha) ** (len(months) - i - 1) for i in range(len(months))]\n",
    "norm_month_weights = month_weights / np.sum(month_weights)\n",
    "\n",
    "# Создаём DataFrame с результатами\n",
    "df_month_weights = pd.DataFrame({'month': months,'month_weight': norm_month_weights})\n",
    "df_month_weights.at[6,'month'] = 10"
   ]
  },
  {
   "cell_type": "code",
   "execution_count": 50,
   "id": "8b5af470-0895-4d4b-b33a-4c182c03fb43",
   "metadata": {},
   "outputs": [],
   "source": [
    "# Добавляем отдельную колонку веса в ДФ\n",
    "df_4 = df_4.merge(df_month_weights, on='month', how='left')\n",
    "df_6 = df_6.merge(df_month_weights, on='month', how='left')\n",
    "df_8 = df_8.merge(df_month_weights, on='month', how='left')\n",
    "df_17 = df_17.merge(df_month_weights, on='month', how='left')"
   ]
  },
  {
   "cell_type": "code",
   "execution_count": 52,
   "id": "f072d560-d890-4940-8186-2e6c8efc454c",
   "metadata": {},
   "outputs": [],
   "source": [
    "# Функция добавляет новую колонку взвешанных потенциальных продаж в ДФ\n",
    "def get_weighted_solds(df):\n",
    "    df['active_weight'] = 0.0 # Создаем новую колонку, в нее мы добавим веса только для активных товаров\n",
    "    df.loc[df['marker'] != 0, 'active_weight'] = df['month_weight'] # Так как 0 - товара впервые в продаже появиться позже, поэтому такие данные ни о чем не говорят\n",
    "    total_weight = df.groupby('name')['active_weight'].sum() # Считаем суммарный вес для каждого товара по активных месяцам, на выходи получим серию\n",
    "    df['total_weight'] = df['name'].map(total_weight) # Для каждого товара добавим его суммарный вес за все активные месяца\n",
    "    df['norm_month_weight'] = df['active_weight'] / df['total_weight'] # Вычисляем нормализованный вес месяца, то есть долю месяца в общей активности по товару\n",
    "    df = df.drop(['month_weight', 'active_weight','total_weight'], axis=1) # Удаляем все вспомогательные колонки\n",
    "    df['weighted_solds'] = df['potential_sold'] * df['norm_month_weight'] # Считаем взвешанные потенциальные продажи\n",
    "    df['weighted_solds'] = df.loc[:,'weighted_solds'].fillna(0) # NaN заменим на 0\n",
    "    return df"
   ]
  },
  {
   "cell_type": "code",
   "execution_count": 54,
   "id": "ebcc1006-fd81-4cfe-84ad-669975d5f7f8",
   "metadata": {},
   "outputs": [],
   "source": [
    "df_4 = get_weighted_solds(df_4)\n",
    "df_6 = get_weighted_solds(df_6)\n",
    "df_8 = get_weighted_solds(df_8)\n",
    "df_17 = get_weighted_solds(df_17)"
   ]
  },
  {
   "cell_type": "code",
   "execution_count": 56,
   "id": "5932795b-32c3-4f24-a2de-93d2bb68fddc",
   "metadata": {},
   "outputs": [
    {
     "data": {
      "text/html": [
       "<div>\n",
       "<style scoped>\n",
       "    .dataframe tbody tr th:only-of-type {\n",
       "        vertical-align: middle;\n",
       "    }\n",
       "\n",
       "    .dataframe tbody tr th {\n",
       "        vertical-align: top;\n",
       "    }\n",
       "\n",
       "    .dataframe thead th {\n",
       "        text-align: right;\n",
       "    }\n",
       "</style>\n",
       "<table border=\"1\" class=\"dataframe\">\n",
       "  <thead>\n",
       "    <tr style=\"text-align: right;\">\n",
       "      <th></th>\n",
       "      <th>name</th>\n",
       "      <th>start</th>\n",
       "      <th>replenishment</th>\n",
       "      <th>sold</th>\n",
       "      <th>end</th>\n",
       "      <th>month</th>\n",
       "      <th>marker</th>\n",
       "      <th>potential_sold</th>\n",
       "      <th>norm_month_weight</th>\n",
       "      <th>weighted_solds</th>\n",
       "    </tr>\n",
       "  </thead>\n",
       "  <tbody>\n",
       "    <tr>\n",
       "      <th>0</th>\n",
       "      <td>1-Зарядное устройство fabricator_of_other_14 2...</td>\n",
       "      <td>NaN</td>\n",
       "      <td>NaN</td>\n",
       "      <td>0.0</td>\n",
       "      <td>NaN</td>\n",
       "      <td>1</td>\n",
       "      <td>0.0</td>\n",
       "      <td>NaN</td>\n",
       "      <td>0.0</td>\n",
       "      <td>0.0</td>\n",
       "    </tr>\n",
       "    <tr>\n",
       "      <th>1</th>\n",
       "      <td>1-Зарядное устройство fabricator_of_other_14 2...</td>\n",
       "      <td>NaN</td>\n",
       "      <td>NaN</td>\n",
       "      <td>0.0</td>\n",
       "      <td>NaN</td>\n",
       "      <td>2</td>\n",
       "      <td>0.0</td>\n",
       "      <td>NaN</td>\n",
       "      <td>0.0</td>\n",
       "      <td>0.0</td>\n",
       "    </tr>\n",
       "    <tr>\n",
       "      <th>2</th>\n",
       "      <td>1-Зарядное устройство fabricator_of_other_14 2...</td>\n",
       "      <td>NaN</td>\n",
       "      <td>NaN</td>\n",
       "      <td>0.0</td>\n",
       "      <td>NaN</td>\n",
       "      <td>3</td>\n",
       "      <td>0.0</td>\n",
       "      <td>NaN</td>\n",
       "      <td>0.0</td>\n",
       "      <td>0.0</td>\n",
       "    </tr>\n",
       "    <tr>\n",
       "      <th>3</th>\n",
       "      <td>1-Зарядное устройство fabricator_of_other_14 2...</td>\n",
       "      <td>NaN</td>\n",
       "      <td>NaN</td>\n",
       "      <td>0.0</td>\n",
       "      <td>NaN</td>\n",
       "      <td>4</td>\n",
       "      <td>0.0</td>\n",
       "      <td>NaN</td>\n",
       "      <td>0.0</td>\n",
       "      <td>0.0</td>\n",
       "    </tr>\n",
       "    <tr>\n",
       "      <th>4</th>\n",
       "      <td>1-Зарядное устройство fabricator_of_other_14 2...</td>\n",
       "      <td>NaN</td>\n",
       "      <td>NaN</td>\n",
       "      <td>0.0</td>\n",
       "      <td>NaN</td>\n",
       "      <td>5</td>\n",
       "      <td>0.0</td>\n",
       "      <td>NaN</td>\n",
       "      <td>0.0</td>\n",
       "      <td>0.0</td>\n",
       "    </tr>\n",
       "  </tbody>\n",
       "</table>\n",
       "</div>"
      ],
      "text/plain": [
       "                                                name start replenishment  \\\n",
       "0  1-Зарядное устройство fabricator_of_other_14 2...   NaN           NaN   \n",
       "1  1-Зарядное устройство fabricator_of_other_14 2...   NaN           NaN   \n",
       "2  1-Зарядное устройство fabricator_of_other_14 2...   NaN           NaN   \n",
       "3  1-Зарядное устройство fabricator_of_other_14 2...   NaN           NaN   \n",
       "4  1-Зарядное устройство fabricator_of_other_14 2...   NaN           NaN   \n",
       "\n",
       "   sold  end  month  marker  potential_sold  norm_month_weight  weighted_solds  \n",
       "0   0.0  NaN      1     0.0             NaN                0.0             0.0  \n",
       "1   0.0  NaN      2     0.0             NaN                0.0             0.0  \n",
       "2   0.0  NaN      3     0.0             NaN                0.0             0.0  \n",
       "3   0.0  NaN      4     0.0             NaN                0.0             0.0  \n",
       "4   0.0  NaN      5     0.0             NaN                0.0             0.0  "
      ]
     },
     "execution_count": 56,
     "metadata": {},
     "output_type": "execute_result"
    }
   ],
   "source": [
    "df_4.head(5)"
   ]
  },
  {
   "cell_type": "markdown",
   "id": "1a643703-6cf3-4f2c-ada6-7031a007d5db",
   "metadata": {},
   "source": [
    "На данный момент у меня получилось по одному ДФ для каждого магазина со всеми данными за пол года. Эти ДФ я оставляю далее без изменений. На их основе\n",
    "возможно в дальнейшем формировать новые метрики.\n",
    "Далее я делаю алгоритм перераспределения. Для начала нахожу сумму взвешанных продаж для каждого товара в каждом ДФ, эта сумма довольно точно покажет \n",
    "соотношение продаж каждого товара между точками"
   ]
  },
  {
   "cell_type": "code",
   "execution_count": 59,
   "id": "02c15919-d528-4549-9eed-8cbf173809dd",
   "metadata": {},
   "outputs": [],
   "source": [
    "df_4_t = df_4.groupby('name').agg({'weighted_solds':'sum'}).reset_index()\n",
    "df_6_t = df_6.groupby('name').agg({'weighted_solds':'sum'}).reset_index()\n",
    "df_8_t = df_8.groupby('name').agg({'weighted_solds':'sum'}).reset_index()\n",
    "df_17_t = df_17.groupby('name').agg({'weighted_solds':'sum'}).reset_index()"
   ]
  },
  {
   "cell_type": "code",
   "execution_count": 61,
   "id": "9a6d2754-bc5b-46fc-9a42-3f70fe86aacf",
   "metadata": {},
   "outputs": [
    {
     "data": {
      "text/html": [
       "<div>\n",
       "<style scoped>\n",
       "    .dataframe tbody tr th:only-of-type {\n",
       "        vertical-align: middle;\n",
       "    }\n",
       "\n",
       "    .dataframe tbody tr th {\n",
       "        vertical-align: top;\n",
       "    }\n",
       "\n",
       "    .dataframe thead th {\n",
       "        text-align: right;\n",
       "    }\n",
       "</style>\n",
       "<table border=\"1\" class=\"dataframe\">\n",
       "  <thead>\n",
       "    <tr style=\"text-align: right;\">\n",
       "      <th></th>\n",
       "      <th>name</th>\n",
       "      <th>sales_4</th>\n",
       "      <th>sales_6</th>\n",
       "      <th>sales_8</th>\n",
       "      <th>sales_17</th>\n",
       "    </tr>\n",
       "  </thead>\n",
       "  <tbody>\n",
       "    <tr>\n",
       "      <th>0</th>\n",
       "      <td>1-Зарядное устройство fabricator_of_other_14 2...</td>\n",
       "      <td>4.285714</td>\n",
       "      <td>0.000000</td>\n",
       "      <td>0.000000</td>\n",
       "      <td>0.000000</td>\n",
       "    </tr>\n",
       "    <tr>\n",
       "      <th>1</th>\n",
       "      <td>1-Зарядное устройство fabricator_of_other_24 O...</td>\n",
       "      <td>2.000000</td>\n",
       "      <td>0.093408</td>\n",
       "      <td>0.000000</td>\n",
       "      <td>0.000000</td>\n",
       "    </tr>\n",
       "    <tr>\n",
       "      <th>2</th>\n",
       "      <td>1-Зарядное устройство fabricator_of_other_3 18...</td>\n",
       "      <td>1.428032</td>\n",
       "      <td>0.000000</td>\n",
       "      <td>7.891086</td>\n",
       "      <td>0.000000</td>\n",
       "    </tr>\n",
       "    <tr>\n",
       "      <th>3</th>\n",
       "      <td>1-Зарядное устройство fabricator_of_other_31 2...</td>\n",
       "      <td>5.449844</td>\n",
       "      <td>1.893852</td>\n",
       "      <td>12.461547</td>\n",
       "      <td>5.304418</td>\n",
       "    </tr>\n",
       "    <tr>\n",
       "      <th>4</th>\n",
       "      <td>1-Зарядное устройство fabricator_of_other_31 3...</td>\n",
       "      <td>8.858074</td>\n",
       "      <td>11.718755</td>\n",
       "      <td>18.225270</td>\n",
       "      <td>28.181546</td>\n",
       "    </tr>\n",
       "  </tbody>\n",
       "</table>\n",
       "</div>"
      ],
      "text/plain": [
       "                                                name   sales_4    sales_6  \\\n",
       "0  1-Зарядное устройство fabricator_of_other_14 2...  4.285714   0.000000   \n",
       "1  1-Зарядное устройство fabricator_of_other_24 O...  2.000000   0.093408   \n",
       "2  1-Зарядное устройство fabricator_of_other_3 18...  1.428032   0.000000   \n",
       "3  1-Зарядное устройство fabricator_of_other_31 2...  5.449844   1.893852   \n",
       "4  1-Зарядное устройство fabricator_of_other_31 3...  8.858074  11.718755   \n",
       "\n",
       "     sales_8   sales_17  \n",
       "0   0.000000   0.000000  \n",
       "1   0.000000   0.000000  \n",
       "2   7.891086   0.000000  \n",
       "3  12.461547   5.304418  \n",
       "4  18.225270  28.181546  "
      ]
     },
     "execution_count": 61,
     "metadata": {},
     "output_type": "execute_result"
    }
   ],
   "source": [
    "df_4_t = df_4_t.rename(columns={'weighted_solds': 'sales_4'})\n",
    "df_6_t = df_6_t.rename(columns={'weighted_solds': 'sales_6'})\n",
    "df_8_t = df_8_t.rename(columns={'weighted_solds': 'sales_8'})\n",
    "df_17_t = df_17_t.rename(columns={'weighted_solds': 'sales_17'})\n",
    "\n",
    "# Последовательно объединяем\n",
    "df_tt = pd.merge(df_4_t, df_6_t, on='name', how='outer')\n",
    "df_tt = pd.merge(df_tt, df_8_t, on='name', how='outer')\n",
    "df_tt = pd.merge(df_tt, df_17_t, on='name', how='outer')\n",
    "\n",
    "# При необходимости заменим NaN на 0, если хотим считать отсутствие продаж как 0\n",
    "df_tt = df_tt.fillna(0)\n",
    "\n",
    "df_tt.head(5)"
   ]
  },
  {
   "cell_type": "code",
   "execution_count": 63,
   "id": "16bf8dd1-9c41-4a33-bfd3-958eea93a05c",
   "metadata": {},
   "outputs": [
    {
     "name": "stderr",
     "output_type": "stream",
     "text": [
      "C:\\Users\\Алексей\\AppData\\Local\\Temp\\ipykernel_2072\\2964939889.py:18: FutureWarning: Downcasting object dtype arrays on .fillna, .ffill, .bfill is deprecated and will change in a future version. Call result.infer_objects(copy=False) instead. To opt-in to the future behavior, set `pd.set_option('future.no_silent_downcasting', True)`\n",
      "  df_ttt = df_ttt.fillna(0)\n"
     ]
    }
   ],
   "source": [
    "# Из текущего месяца получаю текущий остаток по каждому товару\n",
    "df_4_now = df_4[df_4['month'] == 10]\n",
    "df_4_now = df_4_now[['name','end']]\n",
    "df_4_now = df_4_now.rename(columns={'end': 'now_4'})\n",
    "df_6_now = df_6[df_6['month'] == 10]\n",
    "df_6_now = df_6_now[['name','end']]\n",
    "df_6_now = df_6_now.rename(columns={'end': 'now_6'})\n",
    "df_8_now = df_8[df_8['month'] == 10]\n",
    "df_8_now = df_8_now[['name','end']]\n",
    "df_8_now = df_8_now.rename(columns={'end': 'now_8'})\n",
    "df_17_now = df_17[df_17['month'] == 10]\n",
    "df_17_now = df_17_now[['name','end']]\n",
    "df_17_now = df_17_now.rename(columns={'end': 'now_17'})\n",
    "df_ttt = pd.merge(df_4_now, df_6_now, on='name', how='outer')\n",
    "df_ttt = pd.merge(df_ttt, df_8_now, on='name', how='outer')\n",
    "df_ttt = pd.merge(df_ttt, df_17_now, on='name', how='outer')\n",
    "\n",
    "df_ttt = df_ttt.fillna(0)"
   ]
  },
  {
   "cell_type": "code",
   "execution_count": 65,
   "id": "b16ebc5d-fd61-4f89-b525-b1c44f645bf4",
   "metadata": {},
   "outputs": [
    {
     "data": {
      "text/html": [
       "<div>\n",
       "<style scoped>\n",
       "    .dataframe tbody tr th:only-of-type {\n",
       "        vertical-align: middle;\n",
       "    }\n",
       "\n",
       "    .dataframe tbody tr th {\n",
       "        vertical-align: top;\n",
       "    }\n",
       "\n",
       "    .dataframe thead th {\n",
       "        text-align: right;\n",
       "    }\n",
       "</style>\n",
       "<table border=\"1\" class=\"dataframe\">\n",
       "  <thead>\n",
       "    <tr style=\"text-align: right;\">\n",
       "      <th></th>\n",
       "      <th>name</th>\n",
       "      <th>sales_4</th>\n",
       "      <th>sales_6</th>\n",
       "      <th>sales_8</th>\n",
       "      <th>sales_17</th>\n",
       "      <th>now_4</th>\n",
       "      <th>now_6</th>\n",
       "      <th>now_8</th>\n",
       "      <th>now_17</th>\n",
       "    </tr>\n",
       "  </thead>\n",
       "  <tbody>\n",
       "    <tr>\n",
       "      <th>657</th>\n",
       "      <td>Картридж без испарителей fabricator_of_consuma...</td>\n",
       "      <td>1.433118</td>\n",
       "      <td>0.0</td>\n",
       "      <td>2.94289</td>\n",
       "      <td>0.0</td>\n",
       "      <td>0</td>\n",
       "      <td>2</td>\n",
       "      <td>4</td>\n",
       "      <td>2</td>\n",
       "    </tr>\n",
       "    <tr>\n",
       "      <th>658</th>\n",
       "      <td>Картридж без испарителей fabricator_of_consuma...</td>\n",
       "      <td>0.000000</td>\n",
       "      <td>0.0</td>\n",
       "      <td>0.00000</td>\n",
       "      <td>0.0</td>\n",
       "      <td>4</td>\n",
       "      <td>0</td>\n",
       "      <td>0</td>\n",
       "      <td>0</td>\n",
       "    </tr>\n",
       "    <tr>\n",
       "      <th>659</th>\n",
       "      <td>Кейс для аккумуляторов 4х 18650 battery</td>\n",
       "      <td>0.000000</td>\n",
       "      <td>0.0</td>\n",
       "      <td>0.00000</td>\n",
       "      <td>0.0</td>\n",
       "      <td>0</td>\n",
       "      <td>0</td>\n",
       "      <td>1</td>\n",
       "      <td>1</td>\n",
       "    </tr>\n",
       "    <tr>\n",
       "      <th>660</th>\n",
       "      <td>Кейс для аккумуляторов 6х 18650 battery</td>\n",
       "      <td>0.000000</td>\n",
       "      <td>0.0</td>\n",
       "      <td>0.00000</td>\n",
       "      <td>0.0</td>\n",
       "      <td>0</td>\n",
       "      <td>0</td>\n",
       "      <td>2</td>\n",
       "      <td>0</td>\n",
       "    </tr>\n",
       "    <tr>\n",
       "      <th>661</th>\n",
       "      <td>Купол PC devices</td>\n",
       "      <td>0.228846</td>\n",
       "      <td>0.0</td>\n",
       "      <td>0.00000</td>\n",
       "      <td>0.0</td>\n",
       "      <td>2</td>\n",
       "      <td>0</td>\n",
       "      <td>3</td>\n",
       "      <td>0</td>\n",
       "    </tr>\n",
       "  </tbody>\n",
       "</table>\n",
       "</div>"
      ],
      "text/plain": [
       "                                                  name   sales_4  sales_6  \\\n",
       "657  Картридж без испарителей fabricator_of_consuma...  1.433118      0.0   \n",
       "658  Картридж без испарителей fabricator_of_consuma...  0.000000      0.0   \n",
       "659            Кейс для аккумуляторов 4х 18650 battery  0.000000      0.0   \n",
       "660            Кейс для аккумуляторов 6х 18650 battery  0.000000      0.0   \n",
       "661                                   Купол PC devices  0.228846      0.0   \n",
       "\n",
       "     sales_8  sales_17  now_4  now_6  now_8  now_17  \n",
       "657  2.94289       0.0      0      2      4       2  \n",
       "658  0.00000       0.0      4      0      0       0  \n",
       "659  0.00000       0.0      0      0      1       1  \n",
       "660  0.00000       0.0      0      0      2       0  \n",
       "661  0.00000       0.0      2      0      3       0  "
      ]
     },
     "execution_count": 65,
     "metadata": {},
     "output_type": "execute_result"
    }
   ],
   "source": [
    "# Собираю в один ДФ данные о соотношении продаж и текеущих остатков товара для каждого магазина и товара\n",
    "df_tt = pd.merge(df_tt, df_ttt, on='name', how='outer')\n",
    "df_tt.tail(5)"
   ]
  },
  {
   "cell_type": "markdown",
   "id": "7b79b75f-88fb-4d4c-b76d-6f042d174344",
   "metadata": {},
   "source": [
    "Опираясь на эти данные перераспределяю товар между магазинами. При этом учитываю такие важные моменты как: \n",
    "нулевой суммарный остаток\n",
    "отсутствие данных о продажах\n",
    "правильное округление, отправить мы может только целое число товара\n",
    "Сначала я оставляю только активные точки, далее нахожу соотношение суммы продаж и текущего остатка, получая определенный коэффицент.\n",
    "Домнажую продажи на этот коэф, и округляю получившиеся значения, таким образом, что конечная сумма совпадает с суммой остатков и сначала округляются до\n",
    "большего те значения, которые ближе к следующему целому.\n",
    "Создаю ДФ в котором остается только название товара, маркер магазина, получившееся кол-во товара(то есть сколько его должно быть, согласно моей логике) и\n",
    "текущий остаток.\n"
   ]
  },
  {
   "cell_type": "code",
   "execution_count": 68,
   "id": "78fd6b21-2c97-4a98-a2a1-e87000ea72c8",
   "metadata": {},
   "outputs": [],
   "source": [
    "active_points = [4,6,8,17] # Алгоритм будет работать для любого списка точек, то есть можно сделать распределение только между двумя магазинами\n",
    "trans = [] # Сюда буду собирать готовые части\n",
    "count = 1\n",
    "for name_1 in df_tt['name'].values.tolist(): # Прохожу циклом по каждому товару\n",
    "    #print(name_1)\n",
    "    df_cur = df_tt[df_tt['name'] == name_1].copy()\n",
    "    active_shop_mask = [col for col in df_cur.columns if any(f'_{p}' in col for p in active_points)] # Осавляем только те точки, между которыми нужно сделать распределение\n",
    "    active_shop_mask.insert(0, 'name') # Не забюваем колонку с именем\n",
    "    df_cur = df_cur[active_shop_mask] # Применяем маску\n",
    "    if (df_cur.iloc[:,len(active_points)+1:].sum().sum() == 0) or (df_cur.iloc[:,1:len(active_points)+1].sum().sum() == 0): # Проверяем сумму остоатков и сумму продаж на всех активных точках, если хотя бы одна из них равно 0, этот товар мы просто пропускаем, так как нам либо нечего перераспределять, либо товар новый и нет ниакакой информации о его продажах\n",
    "        continue\n",
    "    k = df_cur.iloc[:,len(active_points)+1:].sum().sum() / df_cur.iloc[:,1:len(active_points)+1].sum().sum() # Соответствие между суммой остатков и суммой нужного распределения\n",
    "    df_cur.iloc[:,1:len(active_points)+1] = df_cur.iloc[:,1:len(active_points)+1] * k # Домножаем нужное распределение на коэф\n",
    "    # Дальше нужно сделать правильное округление, таким образом чтоб в колонках sales были целые числа и их сумма равнялась сумме по колонкам now\n",
    "    sales = df_cur.iloc[:,1:len(active_points)+1].values # Выбираем значения колонок sales\n",
    "    total_sum = df_cur.iloc[:,len(active_points)+1:].sum().sum() # Выбираем значения колонок now и находим их сумму\n",
    "    sales_min = np.floor(sales) # Округляем все sales вниз\n",
    "    remainder = int(total_sum - sales_min.sum()) # Смотрим разницу между суммой наличия(now) и суммой после округления вниз, чтоб понять на сколько надо увелить sales\n",
    "    diff = sales - sales_min # Ищем остатки для разнцы sales и результата их округления вниз\n",
    "    if remainder != 0:\n",
    "        ind_for_plus = np.argsort(diff)[:,-remainder:] # Сортируем индексы остатков по возрастанию этих самых остатков и берем только n больших из них. n - кол-во элементов которые надо увеличить на 1\n",
    "        for i in ind_for_plus[0]: # Увеличиваем нужные элементы по индексам\n",
    "            sales_min[0,i] += 1\n",
    "        df_cur.iloc[:,1:len(active_points)+1] = sales_min # Заменяем значения sales на округленные\n",
    "    name = df_cur.iat[0,0] # Выделяем название товара\n",
    "    rows = []\n",
    "    for point in active_points: # Для каждого магазина формируем новый ДФ\n",
    "            rows.append({'name': name,\n",
    "                         'point': point,\n",
    "                         'sales': df_cur.iloc[0,df_cur.columns == f'sales_{point}'].values[0],\n",
    "                         'now': df_cur.iloc[0,df_cur.columns == f'now_{point}'].values[0]})\n",
    "    df_trans = pd.DataFrame(rows)\n",
    "    df_trans['diff'] = df_trans['now'] - df_trans['sales'] # Находим разницу между текущим остатком и необходжимым для каждого товара\n",
    "    while any(abs(df_trans['diff']) > 1e-6): # Пока есть хотя бы одна ненулевая разница между текущем остатком и необходимым\n",
    "        if df_trans['now'].sum() == 0: # Если остаток по товару нулевой\n",
    "            break\n",
    "        max_val = df_trans.iat[df_trans['diff'].idxmax(),4] # Задаем максимальное значение разницы \n",
    "        min_val = df_trans.iat[df_trans['diff'].idxmin(),4] # Задаем минимальное значение разницы \n",
    "        # Рассматриваем всевозможные варианты max_val и min_val. Добавляем этапы перемещения в список из которого позже сфомируем итоговый ДФ\n",
    "        # После каждого случая не забываем менять значения в текущих остатках \n",
    "        if max_val == -min_val: \n",
    "            trans.append({'name': df_trans.iat[0,0], \n",
    "                         'from': df_trans.iat[df_trans['diff'].idxmax(),1],\n",
    "                         'to': df_trans.iat[df_trans['diff'].idxmin(),1],\n",
    "                         'quantity': max_val})\n",
    "            df_trans.iat[df_trans['diff'].idxmax(),4] = 0\n",
    "            df_trans.iat[df_trans['diff'].idxmin(),4] = 0\n",
    "        elif max_val > -min_val:\n",
    "            trans.append({'name': df_trans.iat[0,0],\n",
    "                         'from': df_trans.iat[df_trans['diff'].idxmax(),1],\n",
    "                         'to': df_trans.iat[df_trans['diff'].idxmin(),1],\n",
    "                         'quantity': -min_val})\n",
    "            df_trans.iat[df_trans['diff'].idxmax(),4] = max_val + min_val\n",
    "            df_trans.iat[df_trans['diff'].idxmin(),4] = 0\n",
    "        else:\n",
    "            trans.append({'name': df_trans.iat[0,0],\n",
    "                         'from': df_trans.iat[df_trans['diff'].idxmax(),1],\n",
    "                         'to': df_trans.iat[df_trans['diff'].idxmin(),1],\n",
    "                         'quantity': max_val})\n",
    "            df_trans.iat[df_trans['diff'].idxmax(),4] = 0\n",
    "            df_trans.iat[df_trans['diff'].idxmin(),4] = min_val + max_val\n",
    "        #print(count)\n",
    "        #count += 1\n",
    "df_transport = pd.DataFrame(trans) # Собираем все операции перемещия в один ДФ"
   ]
  },
  {
   "cell_type": "code",
   "execution_count": 70,
   "id": "3c68aec3-dd8d-4d2e-aca3-894aacff5f49",
   "metadata": {},
   "outputs": [
    {
     "data": {
      "text/html": [
       "<div>\n",
       "<style scoped>\n",
       "    .dataframe tbody tr th:only-of-type {\n",
       "        vertical-align: middle;\n",
       "    }\n",
       "\n",
       "    .dataframe tbody tr th {\n",
       "        vertical-align: top;\n",
       "    }\n",
       "\n",
       "    .dataframe thead th {\n",
       "        text-align: right;\n",
       "    }\n",
       "</style>\n",
       "<table border=\"1\" class=\"dataframe\">\n",
       "  <thead>\n",
       "    <tr style=\"text-align: right;\">\n",
       "      <th></th>\n",
       "      <th>name</th>\n",
       "      <th>from</th>\n",
       "      <th>to</th>\n",
       "      <th>quantity</th>\n",
       "    </tr>\n",
       "  </thead>\n",
       "  <tbody>\n",
       "    <tr>\n",
       "      <th>0</th>\n",
       "      <td>1-Зарядное устройство fabricator_of_other_14 2...</td>\n",
       "      <td>8</td>\n",
       "      <td>4</td>\n",
       "      <td>42.0</td>\n",
       "    </tr>\n",
       "    <tr>\n",
       "      <th>1</th>\n",
       "      <td>1-Зарядное устройство fabricator_of_other_14 2...</td>\n",
       "      <td>17</td>\n",
       "      <td>4</td>\n",
       "      <td>3.0</td>\n",
       "    </tr>\n",
       "    <tr>\n",
       "      <th>2</th>\n",
       "      <td>1-Зарядное устройство fabricator_of_other_24 O...</td>\n",
       "      <td>6</td>\n",
       "      <td>4</td>\n",
       "      <td>2.0</td>\n",
       "    </tr>\n",
       "    <tr>\n",
       "      <th>3</th>\n",
       "      <td>1-Зарядное устройство fabricator_of_other_3 18...</td>\n",
       "      <td>8</td>\n",
       "      <td>4</td>\n",
       "      <td>5.0</td>\n",
       "    </tr>\n",
       "    <tr>\n",
       "      <th>4</th>\n",
       "      <td>1-Зарядное устройство fabricator_of_other_31 3...</td>\n",
       "      <td>17</td>\n",
       "      <td>6</td>\n",
       "      <td>9.0</td>\n",
       "    </tr>\n",
       "    <tr>\n",
       "      <th>...</th>\n",
       "      <td>...</td>\n",
       "      <td>...</td>\n",
       "      <td>...</td>\n",
       "      <td>...</td>\n",
       "    </tr>\n",
       "    <tr>\n",
       "      <th>598</th>\n",
       "      <td>Картридж без испарителей fabricator_of_consuma...</td>\n",
       "      <td>4</td>\n",
       "      <td>8</td>\n",
       "      <td>1.0</td>\n",
       "    </tr>\n",
       "    <tr>\n",
       "      <th>599</th>\n",
       "      <td>Картридж без испарителей fabricator_of_consuma...</td>\n",
       "      <td>6</td>\n",
       "      <td>4</td>\n",
       "      <td>2.0</td>\n",
       "    </tr>\n",
       "    <tr>\n",
       "      <th>600</th>\n",
       "      <td>Картридж без испарителей fabricator_of_consuma...</td>\n",
       "      <td>17</td>\n",
       "      <td>4</td>\n",
       "      <td>1.0</td>\n",
       "    </tr>\n",
       "    <tr>\n",
       "      <th>601</th>\n",
       "      <td>Картридж без испарителей fabricator_of_consuma...</td>\n",
       "      <td>17</td>\n",
       "      <td>8</td>\n",
       "      <td>1.0</td>\n",
       "    </tr>\n",
       "    <tr>\n",
       "      <th>602</th>\n",
       "      <td>Купол PC devices</td>\n",
       "      <td>8</td>\n",
       "      <td>4</td>\n",
       "      <td>3.0</td>\n",
       "    </tr>\n",
       "  </tbody>\n",
       "</table>\n",
       "<p>603 rows × 4 columns</p>\n",
       "</div>"
      ],
      "text/plain": [
       "                                                  name  from  to  quantity\n",
       "0    1-Зарядное устройство fabricator_of_other_14 2...     8   4      42.0\n",
       "1    1-Зарядное устройство fabricator_of_other_14 2...    17   4       3.0\n",
       "2    1-Зарядное устройство fabricator_of_other_24 O...     6   4       2.0\n",
       "3    1-Зарядное устройство fabricator_of_other_3 18...     8   4       5.0\n",
       "4    1-Зарядное устройство fabricator_of_other_31 3...    17   6       9.0\n",
       "..                                                 ...   ...  ..       ...\n",
       "598  Картридж без испарителей fabricator_of_consuma...     4   8       1.0\n",
       "599  Картридж без испарителей fabricator_of_consuma...     6   4       2.0\n",
       "600  Картридж без испарителей fabricator_of_consuma...    17   4       1.0\n",
       "601  Картридж без испарителей fabricator_of_consuma...    17   8       1.0\n",
       "602                                   Купол PC devices     8   4       3.0\n",
       "\n",
       "[603 rows x 4 columns]"
      ]
     },
     "execution_count": 70,
     "metadata": {},
     "output_type": "execute_result"
    }
   ],
   "source": [
    "df_transport"
   ]
  },
  {
   "cell_type": "code",
   "execution_count": 88,
   "id": "b3e664a8-2321-4a89-9327-b16000192466",
   "metadata": {},
   "outputs": [],
   "source": [
    "df_transport.to_excel('Распределение.xlsx', index=False) # Сохраняем результат в ексель для дальнейшего использования"
   ]
  },
  {
   "cell_type": "code",
   "execution_count": 72,
   "id": "6f2f76ea-bd97-4c02-b7ea-8430e2afbc19",
   "metadata": {},
   "outputs": [],
   "source": [
    "# Также не забываем найти нелеквидные позиции товара. Обязательно рассматриваем только не новй товар(был в наличии хотя бы 3 месяца)\n",
    "# Какие именно продажи считать не ликвидными сообщил бизнес\n",
    "def get_illiquid(df):\n",
    "    illiquid_list = {} # Отдельный словарь для всех позиций, кроме железа, так как оно в целом продается в меньшем кол-ве, чем все остальное\n",
    "    illiquid_list_device = {}\n",
    "    for name, group in df.groupby('name'):\n",
    "        if ('devices' in name) and (len(group[group['marker'] > 0]) > 2) and (group['sold'].sum() < 7):\n",
    "            if group['end'].astype('float').fillna(0).iat[6] > 1:\n",
    "                illiquid_list_device[name] = f'Сейчас в наличии: {group['end'].astype('float').fillna(0).iat[6]}. Продано за последнее время: {(group['sold'].sum())//1}'\n",
    "        elif ('devices' not in name) and (group['sold'].sum() < 9) and (len(group[group['marker'] > 0]) > 2):\n",
    "            if group['end'].astype('float').fillna(0).iat[6] > 1:\n",
    "                illiquid_list[name] = f'Сейчас в наличии: {group['end'].astype('float').fillna(0).iat[6]}. Продано за последнее время: {(group['sold'].sum())//1}'\n",
    "    return illiquid_list, illiquid_list_device"
   ]
  },
  {
   "cell_type": "code",
   "execution_count": 74,
   "id": "3a85fb32-f30b-41ce-928a-ac990131ae34",
   "metadata": {},
   "outputs": [],
   "source": [
    "illiquid_list_4, illiquid_list_device_4 = get_illiquid(df_4)\n",
    "illiquid_list_6, illiquid_list_device_6 = get_illiquid(df_6)\n",
    "illiquid_list_8, illiquid_list_device_8 = get_illiquid(df_8)\n",
    "illiquid_list_17, illiquid_list_device_17 = get_illiquid(df_17)"
   ]
  },
  {
   "cell_type": "code",
   "execution_count": 76,
   "id": "df7856a5-8d06-4c6a-b6fc-c9728b16008f",
   "metadata": {},
   "outputs": [
    {
     "data": {
      "text/plain": [
       "{'1-Зарядное устройство fabricator_of_other_35 PA10000 other': 'Сейчас в наличии: 7.0. Продано за последнее время: 2.0',\n",
       " '1-Зарядное устройство fabricator_of_other_48 Ti7000 other': 'Сейчас в наличии: 11.0. Продано за последнее время: 6.0',\n",
       " 'drink_20 drinks': 'Сейчас в наличии: 5.0. Продано за последнее время: 4.0',\n",
       " 'drink_21 drinks': 'Сейчас в наличии: 4.0. Продано за последнее время: 3.0',\n",
       " 'drink_25 drinks': 'Сейчас в наличии: 7.0. Продано за последнее время: 5.0',\n",
       " 'drink_28 drinks': 'Сейчас в наличии: 7.0. Продано за последнее время: 6.0',\n",
       " 'drink_48 drinks': 'Сейчас в наличии: 7.0. Продано за последнее время: 2.0',\n",
       " 'drink_54 drinks': 'Сейчас в наличии: 6.0. Продано за последнее время: 6.0',\n",
       " 'drink_58 drinks': 'Сейчас в наличии: 10.0. Продано за последнее время: 2.0',\n",
       " 'drink_60 drinks': 'Сейчас в наличии: 2.0. Продано за последнее время: 4.0',\n",
       " 'drink_62 drinks': 'Сейчас в наличии: 7.0. Продано за последнее время: 4.0',\n",
       " 'drink_64 drinks': 'Сейчас в наличии: 17.0. Продано за последнее время: 7.0',\n",
       " 'drink_76 drinks': 'Сейчас в наличии: 2.0. Продано за последнее время: 4.0',\n",
       " 'drink_9 drinks': 'Сейчас в наличии: 9.0. Продано за последнее время: 4.0',\n",
       " 'drink_91 drinks': 'Сейчас в наличии: 4.0. Продано за последнее время: 8.0',\n",
       " 'drink_98 drinks': 'Сейчас в наличии: 8.0. Продано за последнее время: 4.0',\n",
       " 'fabricator_of_classic_11 classic': 'Сейчас в наличии: 2.0. Продано за последнее время: 8.0',\n",
       " 'fabricator_of_classic_31 classic': 'Сейчас в наличии: 3.0. Продано за последнее время: 0.0',\n",
       " 'fabricator_of_salt_13 salt': 'Сейчас в наличии: 2.0. Продано за последнее время: 2.0',\n",
       " 'fabricator_of_salt_14 salt': 'Сейчас в наличии: 4.0. Продано за последнее время: 2.0',\n",
       " 'fabricator_of_salt_18 salt': 'Сейчас в наличии: 5.0. Продано за последнее время: 2.0',\n",
       " 'fabricator_of_salt_67 salt': 'Сейчас в наличии: 7.0. Продано за последнее время: 6.0',\n",
       " 'fabricator_of_salt_68 salt': 'Сейчас в наличии: 3.0. Продано за последнее время: 1.0',\n",
       " 'fabricator_of_salt_72 salt': 'Сейчас в наличии: 6.0. Продано за последнее время: 1.0',\n",
       " 'fabricator_of_salt_73 salt': 'Сейчас в наличии: 2.0. Продано за последнее время: 0.0',\n",
       " 'fabricator_of_salt_82 salt': 'Сейчас в наличии: 3.0. Продано за последнее время: 0.0',\n",
       " 'fabricator_of_salt_84 salt': 'Сейчас в наличии: 3.0. Продано за последнее время: 0.0',\n",
       " 'fabricator_of_salt_88 salt': 'Сейчас в наличии: 2.0. Продано за последнее время: 0.0',\n",
       " 'fabricator_of_salt_99 salt': 'Сейчас в наличии: 7.0. Продано за последнее время: 8.0',\n",
       " 'fabricator_of_su_10 Lands Ci5000 Ягоды цветущий персик single_use': 'Сейчас в наличии: 2.0. Продано за последнее время: 4.0',\n",
       " 'fabricator_of_su_18 Mary BM16000 single_use': 'Сейчас в наличии: 2.0. Продано за последнее время: 0.0',\n",
       " 'fabricator_of_su_20 10000 single_use': 'Сейчас в наличии: 5.0. Продано за последнее время: 2.0',\n",
       " 'fabricator_of_su_20 8000 single_use': 'Сейчас в наличии: 2.0. Продано за последнее время: 1.0',\n",
       " 'fabricator_of_su_5 Cyber 8000 single_use': 'Сейчас в наличии: 6.0. Продано за последнее время: 6.0',\n",
       " 'fabricator_of_su_5 Tikobar single_use': 'Сейчас в наличии: 3.0. Продано за последнее время: 1.0',\n",
       " 'fabricator_of_su_6 Max single_use': 'Сейчас в наличии: 3.0. Продано за последнее время: 1.0',\n",
       " 'fabricator_of_su_6 Maya Дыня single_use': 'Сейчас в наличии: 3.0. Продано за последнее время: 2.0',\n",
       " 'fabricator_of_su_6 Maya Клубника-банан single_use': 'Сейчас в наличии: 5.0. Продано за последнее время: 1.0',\n",
       " 'fabricator_of_su_6 Maya Кола single_use': 'Сейчас в наличии: 2.0. Продано за последнее время: 0.0',\n",
       " 'fabricator_of_su_6 Maya Лимон-личи single_use': 'Сейчас в наличии: 2.0. Продано за последнее время: 0.0',\n",
       " 'fabricator_of_su_6 Maya Манго single_use': 'Сейчас в наличии: 3.0. Продано за последнее время: 0.0',\n",
       " 'fabricator_of_su_6 Maya Энергетик single_use': 'Сейчас в наличии: 2.0. Продано за последнее время: 0.0',\n",
       " 'fabricator_of_su_7 Indic 10000 single_use': 'Сейчас в наличии: 7.0. Продано за последнее время: 6.0',\n",
       " 'fabricator_of_su_8 Cube White 7000 single_use': 'Сейчас в наличии: 4.0. Продано за последнее время: 3.0',\n",
       " 'Аккумулятор fabricator_of_battery_1 18350 battery': 'Сейчас в наличии: 2.0. Продано за последнее время: 7.0',\n",
       " 'Аккумулятор fabricator_of_battery_2 30Q battery': 'Сейчас в наличии: 2.0. Продано за последнее время: 5.0',\n",
       " 'Аккумулятор fabricator_of_battery_4 VTC6A 21700 battery': 'Сейчас в наличии: 5.0. Продано за последнее время: 0.0',\n",
       " 'Бак fabricator_of_consumables_5 Boro Tank RBA consumables': 'Сейчас в наличии: 5.0. Продано за последнее время: 0.0',\n",
       " 'Заготовка Fused Clapton 1койл (с укладкой ваты) consumables': 'Сейчас в наличии: 98.0. Продано за последнее время: 6.0',\n",
       " 'Заготовка FusedClapton (Сиготяжный) consumables': 'Сейчас в наличии: 22.0. Продано за последнее время: 1.0',\n",
       " 'Зарядное устройство fabricator_of_consumables_6 C1 consumables': 'Сейчас в наличии: 2.0. Продано за последнее время: 0.0',\n",
       " 'Испаритель fabricator_of_consumables_11 UB Lite consumables': 'Сейчас в наличии: 12.0. Продано за последнее время: 2.0',\n",
       " 'Испаритель fabricator_of_consumables_12 Feelin consumables': 'Сейчас в наличии: 9.0. Продано за последнее время: 4.0',\n",
       " 'Испаритель fabricator_of_consumables_13 GTI consumables': 'Сейчас в наличии: 6.0. Продано за последнее время: 2.0',\n",
       " 'Испаритель fabricator_of_consumables_2 Jellybox Nano consumables': 'Сейчас в наличии: 2.0. Продано за последнее время: 1.0',\n",
       " 'Испаритель fabricator_of_consumables_3 Battlestar baby/Charon baby consumables': 'Сейчас в наличии: 17.0. Продано за последнее время: 3.0',\n",
       " 'Испаритель fabricator_of_consumables_8 Aegis Pod consumables': 'Сейчас в наличии: 3.0. Продано за последнее время: 0.0',\n",
       " 'Картридж fabricator_of_consumables_13 Luxe Q consumables': 'Сейчас в наличии: 2.0. Продано за последнее время: 1.0',\n",
       " 'Картридж fabricator_of_consumables_8 Sonder U consumables': 'Сейчас в наличии: 20.0. Продано за последнее время: 6.0'}"
      ]
     },
     "execution_count": 76,
     "metadata": {},
     "output_type": "execute_result"
    }
   ],
   "source": [
    "# Предоставляем информации о товаре в подробном виде, показывая текущий остаток и сумму продаж за пол года по этой позиции отдельно для каждого магазина\n",
    "illiquid_list_17"
   ]
  },
  {
   "cell_type": "markdown",
   "id": "fada8bbe-191f-4f66-a9e4-27aa846c70ed",
   "metadata": {},
   "source": []
  },
  {
   "cell_type": "code",
   "execution_count": 222,
   "id": "7d7ace1c-0f37-403e-b857-f6029abfac0f",
   "metadata": {},
   "outputs": [],
   "source": [
    "# Также можно рассматреть подробные данные о продажах любого неликвидного товара на каждой точке.\n",
    "# Для этого используем интерактивный график."
   ]
  },
  {
   "cell_type": "code",
   "execution_count": 80,
   "id": "60ecf080-04c6-48ae-a620-15f5e3f6ab09",
   "metadata": {},
   "outputs": [
    {
     "data": {
      "application/vnd.plotly.v1+json": {
       "config": {
        "plotlyServerURL": "https://plot.ly"
       },
       "data": [
        {
         "hovertemplate": "point=point_4<br>month=%{x}<br>sold=%{y}<extra></extra>",
         "legendgroup": "point_4",
         "line": {
          "color": "#636efa",
          "dash": "solid"
         },
         "marker": {
          "symbol": "circle"
         },
         "mode": "lines+markers",
         "name": "point_4",
         "orientation": "v",
         "showlegend": true,
         "type": "scatter",
         "x": [
          1,
          2,
          3,
          4,
          5,
          6
         ],
         "xaxis": "x",
         "y": [
          4,
          2,
          0,
          2,
          2,
          0
         ],
         "yaxis": "y"
        },
        {
         "hovertemplate": "point=point_6<br>month=%{x}<br>sold=%{y}<extra></extra>",
         "legendgroup": "point_6",
         "line": {
          "color": "#EF553B",
          "dash": "solid"
         },
         "marker": {
          "symbol": "circle"
         },
         "mode": "lines+markers",
         "name": "point_6",
         "orientation": "v",
         "showlegend": true,
         "type": "scatter",
         "x": [
          1,
          2,
          3,
          4,
          5,
          6
         ],
         "xaxis": "x",
         "y": [
          0,
          0,
          0,
          0,
          0,
          0
         ],
         "yaxis": "y"
        },
        {
         "hovertemplate": "point=point_8<br>month=%{x}<br>sold=%{y}<extra></extra>",
         "legendgroup": "point_8",
         "line": {
          "color": "#00cc96",
          "dash": "solid"
         },
         "marker": {
          "symbol": "circle"
         },
         "mode": "lines+markers",
         "name": "point_8",
         "orientation": "v",
         "showlegend": true,
         "type": "scatter",
         "x": [
          1,
          2,
          3,
          4,
          5,
          6
         ],
         "xaxis": "x",
         "y": [
          8,
          10,
          5,
          3,
          9,
          2
         ],
         "yaxis": "y"
        },
        {
         "hovertemplate": "point=point_17<br>month=%{x}<br>sold=%{y}<extra></extra>",
         "legendgroup": "point_17",
         "line": {
          "color": "#ab63fa",
          "dash": "solid"
         },
         "marker": {
          "symbol": "circle"
         },
         "mode": "lines+markers",
         "name": "point_17",
         "orientation": "v",
         "showlegend": true,
         "type": "scatter",
         "x": [
          1,
          2,
          3,
          4,
          5,
          6
         ],
         "xaxis": "x",
         "y": [
          0,
          1,
          0,
          1,
          1,
          1
         ],
         "yaxis": "y"
        }
       ],
       "layout": {
        "autosize": true,
        "legend": {
         "title": {
          "text": "point"
         },
         "tracegroupgap": 0
        },
        "template": {
         "data": {
          "bar": [
           {
            "error_x": {
             "color": "#2a3f5f"
            },
            "error_y": {
             "color": "#2a3f5f"
            },
            "marker": {
             "line": {
              "color": "#E5ECF6",
              "width": 0.5
             },
             "pattern": {
              "fillmode": "overlay",
              "size": 10,
              "solidity": 0.2
             }
            },
            "type": "bar"
           }
          ],
          "barpolar": [
           {
            "marker": {
             "line": {
              "color": "#E5ECF6",
              "width": 0.5
             },
             "pattern": {
              "fillmode": "overlay",
              "size": 10,
              "solidity": 0.2
             }
            },
            "type": "barpolar"
           }
          ],
          "carpet": [
           {
            "aaxis": {
             "endlinecolor": "#2a3f5f",
             "gridcolor": "white",
             "linecolor": "white",
             "minorgridcolor": "white",
             "startlinecolor": "#2a3f5f"
            },
            "baxis": {
             "endlinecolor": "#2a3f5f",
             "gridcolor": "white",
             "linecolor": "white",
             "minorgridcolor": "white",
             "startlinecolor": "#2a3f5f"
            },
            "type": "carpet"
           }
          ],
          "choropleth": [
           {
            "colorbar": {
             "outlinewidth": 0,
             "ticks": ""
            },
            "type": "choropleth"
           }
          ],
          "contour": [
           {
            "colorbar": {
             "outlinewidth": 0,
             "ticks": ""
            },
            "colorscale": [
             [
              0,
              "#0d0887"
             ],
             [
              0.1111111111111111,
              "#46039f"
             ],
             [
              0.2222222222222222,
              "#7201a8"
             ],
             [
              0.3333333333333333,
              "#9c179e"
             ],
             [
              0.4444444444444444,
              "#bd3786"
             ],
             [
              0.5555555555555556,
              "#d8576b"
             ],
             [
              0.6666666666666666,
              "#ed7953"
             ],
             [
              0.7777777777777778,
              "#fb9f3a"
             ],
             [
              0.8888888888888888,
              "#fdca26"
             ],
             [
              1,
              "#f0f921"
             ]
            ],
            "type": "contour"
           }
          ],
          "contourcarpet": [
           {
            "colorbar": {
             "outlinewidth": 0,
             "ticks": ""
            },
            "type": "contourcarpet"
           }
          ],
          "heatmap": [
           {
            "colorbar": {
             "outlinewidth": 0,
             "ticks": ""
            },
            "colorscale": [
             [
              0,
              "#0d0887"
             ],
             [
              0.1111111111111111,
              "#46039f"
             ],
             [
              0.2222222222222222,
              "#7201a8"
             ],
             [
              0.3333333333333333,
              "#9c179e"
             ],
             [
              0.4444444444444444,
              "#bd3786"
             ],
             [
              0.5555555555555556,
              "#d8576b"
             ],
             [
              0.6666666666666666,
              "#ed7953"
             ],
             [
              0.7777777777777778,
              "#fb9f3a"
             ],
             [
              0.8888888888888888,
              "#fdca26"
             ],
             [
              1,
              "#f0f921"
             ]
            ],
            "type": "heatmap"
           }
          ],
          "heatmapgl": [
           {
            "colorbar": {
             "outlinewidth": 0,
             "ticks": ""
            },
            "colorscale": [
             [
              0,
              "#0d0887"
             ],
             [
              0.1111111111111111,
              "#46039f"
             ],
             [
              0.2222222222222222,
              "#7201a8"
             ],
             [
              0.3333333333333333,
              "#9c179e"
             ],
             [
              0.4444444444444444,
              "#bd3786"
             ],
             [
              0.5555555555555556,
              "#d8576b"
             ],
             [
              0.6666666666666666,
              "#ed7953"
             ],
             [
              0.7777777777777778,
              "#fb9f3a"
             ],
             [
              0.8888888888888888,
              "#fdca26"
             ],
             [
              1,
              "#f0f921"
             ]
            ],
            "type": "heatmapgl"
           }
          ],
          "histogram": [
           {
            "marker": {
             "pattern": {
              "fillmode": "overlay",
              "size": 10,
              "solidity": 0.2
             }
            },
            "type": "histogram"
           }
          ],
          "histogram2d": [
           {
            "colorbar": {
             "outlinewidth": 0,
             "ticks": ""
            },
            "colorscale": [
             [
              0,
              "#0d0887"
             ],
             [
              0.1111111111111111,
              "#46039f"
             ],
             [
              0.2222222222222222,
              "#7201a8"
             ],
             [
              0.3333333333333333,
              "#9c179e"
             ],
             [
              0.4444444444444444,
              "#bd3786"
             ],
             [
              0.5555555555555556,
              "#d8576b"
             ],
             [
              0.6666666666666666,
              "#ed7953"
             ],
             [
              0.7777777777777778,
              "#fb9f3a"
             ],
             [
              0.8888888888888888,
              "#fdca26"
             ],
             [
              1,
              "#f0f921"
             ]
            ],
            "type": "histogram2d"
           }
          ],
          "histogram2dcontour": [
           {
            "colorbar": {
             "outlinewidth": 0,
             "ticks": ""
            },
            "colorscale": [
             [
              0,
              "#0d0887"
             ],
             [
              0.1111111111111111,
              "#46039f"
             ],
             [
              0.2222222222222222,
              "#7201a8"
             ],
             [
              0.3333333333333333,
              "#9c179e"
             ],
             [
              0.4444444444444444,
              "#bd3786"
             ],
             [
              0.5555555555555556,
              "#d8576b"
             ],
             [
              0.6666666666666666,
              "#ed7953"
             ],
             [
              0.7777777777777778,
              "#fb9f3a"
             ],
             [
              0.8888888888888888,
              "#fdca26"
             ],
             [
              1,
              "#f0f921"
             ]
            ],
            "type": "histogram2dcontour"
           }
          ],
          "mesh3d": [
           {
            "colorbar": {
             "outlinewidth": 0,
             "ticks": ""
            },
            "type": "mesh3d"
           }
          ],
          "parcoords": [
           {
            "line": {
             "colorbar": {
              "outlinewidth": 0,
              "ticks": ""
             }
            },
            "type": "parcoords"
           }
          ],
          "pie": [
           {
            "automargin": true,
            "type": "pie"
           }
          ],
          "scatter": [
           {
            "fillpattern": {
             "fillmode": "overlay",
             "size": 10,
             "solidity": 0.2
            },
            "type": "scatter"
           }
          ],
          "scatter3d": [
           {
            "line": {
             "colorbar": {
              "outlinewidth": 0,
              "ticks": ""
             }
            },
            "marker": {
             "colorbar": {
              "outlinewidth": 0,
              "ticks": ""
             }
            },
            "type": "scatter3d"
           }
          ],
          "scattercarpet": [
           {
            "marker": {
             "colorbar": {
              "outlinewidth": 0,
              "ticks": ""
             }
            },
            "type": "scattercarpet"
           }
          ],
          "scattergeo": [
           {
            "marker": {
             "colorbar": {
              "outlinewidth": 0,
              "ticks": ""
             }
            },
            "type": "scattergeo"
           }
          ],
          "scattergl": [
           {
            "marker": {
             "colorbar": {
              "outlinewidth": 0,
              "ticks": ""
             }
            },
            "type": "scattergl"
           }
          ],
          "scattermapbox": [
           {
            "marker": {
             "colorbar": {
              "outlinewidth": 0,
              "ticks": ""
             }
            },
            "type": "scattermapbox"
           }
          ],
          "scatterpolar": [
           {
            "marker": {
             "colorbar": {
              "outlinewidth": 0,
              "ticks": ""
             }
            },
            "type": "scatterpolar"
           }
          ],
          "scatterpolargl": [
           {
            "marker": {
             "colorbar": {
              "outlinewidth": 0,
              "ticks": ""
             }
            },
            "type": "scatterpolargl"
           }
          ],
          "scatterternary": [
           {
            "marker": {
             "colorbar": {
              "outlinewidth": 0,
              "ticks": ""
             }
            },
            "type": "scatterternary"
           }
          ],
          "surface": [
           {
            "colorbar": {
             "outlinewidth": 0,
             "ticks": ""
            },
            "colorscale": [
             [
              0,
              "#0d0887"
             ],
             [
              0.1111111111111111,
              "#46039f"
             ],
             [
              0.2222222222222222,
              "#7201a8"
             ],
             [
              0.3333333333333333,
              "#9c179e"
             ],
             [
              0.4444444444444444,
              "#bd3786"
             ],
             [
              0.5555555555555556,
              "#d8576b"
             ],
             [
              0.6666666666666666,
              "#ed7953"
             ],
             [
              0.7777777777777778,
              "#fb9f3a"
             ],
             [
              0.8888888888888888,
              "#fdca26"
             ],
             [
              1,
              "#f0f921"
             ]
            ],
            "type": "surface"
           }
          ],
          "table": [
           {
            "cells": {
             "fill": {
              "color": "#EBF0F8"
             },
             "line": {
              "color": "white"
             }
            },
            "header": {
             "fill": {
              "color": "#C8D4E3"
             },
             "line": {
              "color": "white"
             }
            },
            "type": "table"
           }
          ]
         },
         "layout": {
          "annotationdefaults": {
           "arrowcolor": "#2a3f5f",
           "arrowhead": 0,
           "arrowwidth": 1
          },
          "autotypenumbers": "strict",
          "coloraxis": {
           "colorbar": {
            "outlinewidth": 0,
            "ticks": ""
           }
          },
          "colorscale": {
           "diverging": [
            [
             0,
             "#8e0152"
            ],
            [
             0.1,
             "#c51b7d"
            ],
            [
             0.2,
             "#de77ae"
            ],
            [
             0.3,
             "#f1b6da"
            ],
            [
             0.4,
             "#fde0ef"
            ],
            [
             0.5,
             "#f7f7f7"
            ],
            [
             0.6,
             "#e6f5d0"
            ],
            [
             0.7,
             "#b8e186"
            ],
            [
             0.8,
             "#7fbc41"
            ],
            [
             0.9,
             "#4d9221"
            ],
            [
             1,
             "#276419"
            ]
           ],
           "sequential": [
            [
             0,
             "#0d0887"
            ],
            [
             0.1111111111111111,
             "#46039f"
            ],
            [
             0.2222222222222222,
             "#7201a8"
            ],
            [
             0.3333333333333333,
             "#9c179e"
            ],
            [
             0.4444444444444444,
             "#bd3786"
            ],
            [
             0.5555555555555556,
             "#d8576b"
            ],
            [
             0.6666666666666666,
             "#ed7953"
            ],
            [
             0.7777777777777778,
             "#fb9f3a"
            ],
            [
             0.8888888888888888,
             "#fdca26"
            ],
            [
             1,
             "#f0f921"
            ]
           ],
           "sequentialminus": [
            [
             0,
             "#0d0887"
            ],
            [
             0.1111111111111111,
             "#46039f"
            ],
            [
             0.2222222222222222,
             "#7201a8"
            ],
            [
             0.3333333333333333,
             "#9c179e"
            ],
            [
             0.4444444444444444,
             "#bd3786"
            ],
            [
             0.5555555555555556,
             "#d8576b"
            ],
            [
             0.6666666666666666,
             "#ed7953"
            ],
            [
             0.7777777777777778,
             "#fb9f3a"
            ],
            [
             0.8888888888888888,
             "#fdca26"
            ],
            [
             1,
             "#f0f921"
            ]
           ]
          },
          "colorway": [
           "#636efa",
           "#EF553B",
           "#00cc96",
           "#ab63fa",
           "#FFA15A",
           "#19d3f3",
           "#FF6692",
           "#B6E880",
           "#FF97FF",
           "#FECB52"
          ],
          "font": {
           "color": "#2a3f5f"
          },
          "geo": {
           "bgcolor": "white",
           "lakecolor": "white",
           "landcolor": "#E5ECF6",
           "showlakes": true,
           "showland": true,
           "subunitcolor": "white"
          },
          "hoverlabel": {
           "align": "left"
          },
          "hovermode": "closest",
          "mapbox": {
           "style": "light"
          },
          "paper_bgcolor": "white",
          "plot_bgcolor": "#E5ECF6",
          "polar": {
           "angularaxis": {
            "gridcolor": "white",
            "linecolor": "white",
            "ticks": ""
           },
           "bgcolor": "#E5ECF6",
           "radialaxis": {
            "gridcolor": "white",
            "linecolor": "white",
            "ticks": ""
           }
          },
          "scene": {
           "xaxis": {
            "backgroundcolor": "#E5ECF6",
            "gridcolor": "white",
            "gridwidth": 2,
            "linecolor": "white",
            "showbackground": true,
            "ticks": "",
            "zerolinecolor": "white"
           },
           "yaxis": {
            "backgroundcolor": "#E5ECF6",
            "gridcolor": "white",
            "gridwidth": 2,
            "linecolor": "white",
            "showbackground": true,
            "ticks": "",
            "zerolinecolor": "white"
           },
           "zaxis": {
            "backgroundcolor": "#E5ECF6",
            "gridcolor": "white",
            "gridwidth": 2,
            "linecolor": "white",
            "showbackground": true,
            "ticks": "",
            "zerolinecolor": "white"
           }
          },
          "shapedefaults": {
           "line": {
            "color": "#2a3f5f"
           }
          },
          "ternary": {
           "aaxis": {
            "gridcolor": "white",
            "linecolor": "white",
            "ticks": ""
           },
           "baxis": {
            "gridcolor": "white",
            "linecolor": "white",
            "ticks": ""
           },
           "bgcolor": "#E5ECF6",
           "caxis": {
            "gridcolor": "white",
            "linecolor": "white",
            "ticks": ""
           }
          },
          "title": {
           "x": 0.05
          },
          "xaxis": {
           "automargin": true,
           "gridcolor": "white",
           "linecolor": "white",
           "ticks": "",
           "title": {
            "standoff": 15
           },
           "zerolinecolor": "white",
           "zerolinewidth": 2
          },
          "yaxis": {
           "automargin": true,
           "gridcolor": "white",
           "linecolor": "white",
           "ticks": "",
           "title": {
            "standoff": 15
           },
           "zerolinecolor": "white",
           "zerolinewidth": 2
          }
         }
        },
        "title": {
         "text": "Продажи товара по точкам"
        },
        "xaxis": {
         "anchor": "y",
         "autorange": true,
         "domain": [
          0,
          1
         ],
         "range": [
          0.6961152882205515,
          6.303884711779449
         ],
         "title": {
          "text": "month"
         },
         "type": "linear"
        },
        "yaxis": {
         "anchor": "x",
         "autorange": true,
         "domain": [
          0,
          1
         ],
         "range": [
          -0.8252427184466019,
          10.825242718446601
         ],
         "title": {
          "text": "sold"
         },
         "type": "linear"
        }
       }
      },
      "image/png": "[encoded data removed]",
      "text/html": [
       "<div>                            <div id=\"bea91616-a2a4-4831-a4dd-fc78d017de86\" class=\"plotly-graph-div\" style=\"height:525px; width:100%;\"></div>            <script type=\"text/javascript\">                require([\"plotly\"], function(Plotly) {                    window.PLOTLYENV=window.PLOTLYENV || {};                                    if (document.getElementById(\"bea91616-a2a4-4831-a4dd-fc78d017de86\")) {                    Plotly.newPlot(                        \"bea91616-a2a4-4831-a4dd-fc78d017de86\",                        [{\"hovertemplate\":\"point=point_4\\u003cbr\\u003emonth=%{x}\\u003cbr\\u003esold=%{y}\\u003cextra\\u003e\\u003c\\u002fextra\\u003e\",\"legendgroup\":\"point_4\",\"line\":{\"color\":\"#636efa\",\"dash\":\"solid\"},\"marker\":{\"symbol\":\"circle\"},\"mode\":\"lines+markers\",\"name\":\"point_4\",\"orientation\":\"v\",\"showlegend\":true,\"x\":[1,2,3,4,5,6],\"xaxis\":\"x\",\"y\":[4.0,2.0,0.0,2.0,2.0,0.0],\"yaxis\":\"y\",\"type\":\"scatter\"},{\"hovertemplate\":\"point=point_6\\u003cbr\\u003emonth=%{x}\\u003cbr\\u003esold=%{y}\\u003cextra\\u003e\\u003c\\u002fextra\\u003e\",\"legendgroup\":\"point_6\",\"line\":{\"color\":\"#EF553B\",\"dash\":\"solid\"},\"marker\":{\"symbol\":\"circle\"},\"mode\":\"lines+markers\",\"name\":\"point_6\",\"orientation\":\"v\",\"showlegend\":true,\"x\":[1,2,3,4,5,6],\"xaxis\":\"x\",\"y\":[0.0,0.0,0.0,0.0,0.0,0.0],\"yaxis\":\"y\",\"type\":\"scatter\"},{\"hovertemplate\":\"point=point_8\\u003cbr\\u003emonth=%{x}\\u003cbr\\u003esold=%{y}\\u003cextra\\u003e\\u003c\\u002fextra\\u003e\",\"legendgroup\":\"point_8\",\"line\":{\"color\":\"#00cc96\",\"dash\":\"solid\"},\"marker\":{\"symbol\":\"circle\"},\"mode\":\"lines+markers\",\"name\":\"point_8\",\"orientation\":\"v\",\"showlegend\":true,\"x\":[1,2,3,4,5,6],\"xaxis\":\"x\",\"y\":[8.0,10.0,5.0,3.0,9.0,2.0],\"yaxis\":\"y\",\"type\":\"scatter\"},{\"hovertemplate\":\"point=point_17\\u003cbr\\u003emonth=%{x}\\u003cbr\\u003esold=%{y}\\u003cextra\\u003e\\u003c\\u002fextra\\u003e\",\"legendgroup\":\"point_17\",\"line\":{\"color\":\"#ab63fa\",\"dash\":\"solid\"},\"marker\":{\"symbol\":\"circle\"},\"mode\":\"lines+markers\",\"name\":\"point_17\",\"orientation\":\"v\",\"showlegend\":true,\"x\":[1,2,3,4,5,6],\"xaxis\":\"x\",\"y\":[0.0,1.0,0.0,1.0,1.0,1.0],\"yaxis\":\"y\",\"type\":\"scatter\"}],                        {\"template\":{\"data\":{\"histogram2dcontour\":[{\"type\":\"histogram2dcontour\",\"colorbar\":{\"outlinewidth\":0,\"ticks\":\"\"},\"colorscale\":[[0.0,\"#0d0887\"],[0.1111111111111111,\"#46039f\"],[0.2222222222222222,\"#7201a8\"],[0.3333333333333333,\"#9c179e\"],[0.4444444444444444,\"#bd3786\"],[0.5555555555555556,\"#d8576b\"],[0.6666666666666666,\"#ed7953\"],[0.7777777777777778,\"#fb9f3a\"],[0.8888888888888888,\"#fdca26\"],[1.0,\"#f0f921\"]]}],\"choropleth\":[{\"type\":\"choropleth\",\"colorbar\":{\"outlinewidth\":0,\"ticks\":\"\"}}],\"histogram2d\":[{\"type\":\"histogram2d\",\"colorbar\":{\"outlinewidth\":0,\"ticks\":\"\"},\"colorscale\":[[0.0,\"#0d0887\"],[0.1111111111111111,\"#46039f\"],[0.2222222222222222,\"#7201a8\"],[0.3333333333333333,\"#9c179e\"],[0.4444444444444444,\"#bd3786\"],[0.5555555555555556,\"#d8576b\"],[0.6666666666666666,\"#ed7953\"],[0.7777777777777778,\"#fb9f3a\"],[0.8888888888888888,\"#fdca26\"],[1.0,\"#f0f921\"]]}],\"heatmap\":[{\"type\":\"heatmap\",\"colorbar\":{\"outlinewidth\":0,\"ticks\":\"\"},\"colorscale\":[[0.0,\"#0d0887\"],[0.1111111111111111,\"#46039f\"],[0.2222222222222222,\"#7201a8\"],[0.3333333333333333,\"#9c179e\"],[0.4444444444444444,\"#bd3786\"],[0.5555555555555556,\"#d8576b\"],[0.6666666666666666,\"#ed7953\"],[0.7777777777777778,\"#fb9f3a\"],[0.8888888888888888,\"#fdca26\"],[1.0,\"#f0f921\"]]}],\"heatmapgl\":[{\"type\":\"heatmapgl\",\"colorbar\":{\"outlinewidth\":0,\"ticks\":\"\"},\"colorscale\":[[0.0,\"#0d0887\"],[0.1111111111111111,\"#46039f\"],[0.2222222222222222,\"#7201a8\"],[0.3333333333333333,\"#9c179e\"],[0.4444444444444444,\"#bd3786\"],[0.5555555555555556,\"#d8576b\"],[0.6666666666666666,\"#ed7953\"],[0.7777777777777778,\"#fb9f3a\"],[0.8888888888888888,\"#fdca26\"],[1.0,\"#f0f921\"]]}],\"contourcarpet\":[{\"type\":\"contourcarpet\",\"colorbar\":{\"outlinewidth\":0,\"ticks\":\"\"}}],\"contour\":[{\"type\":\"contour\",\"colorbar\":{\"outlinewidth\":0,\"ticks\":\"\"},\"colorscale\":[[0.0,\"#0d0887\"],[0.1111111111111111,\"#46039f\"],[0.2222222222222222,\"#7201a8\"],[0.3333333333333333,\"#9c179e\"],[0.4444444444444444,\"#bd3786\"],[0.5555555555555556,\"#d8576b\"],[0.6666666666666666,\"#ed7953\"],[0.7777777777777778,\"#fb9f3a\"],[0.8888888888888888,\"#fdca26\"],[1.0,\"#f0f921\"]]}],\"surface\":[{\"type\":\"surface\",\"colorbar\":{\"outlinewidth\":0,\"ticks\":\"\"},\"colorscale\":[[0.0,\"#0d0887\"],[0.1111111111111111,\"#46039f\"],[0.2222222222222222,\"#7201a8\"],[0.3333333333333333,\"#9c179e\"],[0.4444444444444444,\"#bd3786\"],[0.5555555555555556,\"#d8576b\"],[0.6666666666666666,\"#ed7953\"],[0.7777777777777778,\"#fb9f3a\"],[0.8888888888888888,\"#fdca26\"],[1.0,\"#f0f921\"]]}],\"mesh3d\":[{\"type\":\"mesh3d\",\"colorbar\":{\"outlinewidth\":0,\"ticks\":\"\"}}],\"scatter\":[{\"fillpattern\":{\"fillmode\":\"overlay\",\"size\":10,\"solidity\":0.2},\"type\":\"scatter\"}],\"parcoords\":[{\"type\":\"parcoords\",\"line\":{\"colorbar\":{\"outlinewidth\":0,\"ticks\":\"\"}}}],\"scatterpolargl\":[{\"type\":\"scatterpolargl\",\"marker\":{\"colorbar\":{\"outlinewidth\":0,\"ticks\":\"\"}}}],\"bar\":[{\"error_x\":{\"color\":\"#2a3f5f\"},\"error_y\":{\"color\":\"#2a3f5f\"},\"marker\":{\"line\":{\"color\":\"#E5ECF6\",\"width\":0.5},\"pattern\":{\"fillmode\":\"overlay\",\"size\":10,\"solidity\":0.2}},\"type\":\"bar\"}],\"scattergeo\":[{\"type\":\"scattergeo\",\"marker\":{\"colorbar\":{\"outlinewidth\":0,\"ticks\":\"\"}}}],\"scatterpolar\":[{\"type\":\"scatterpolar\",\"marker\":{\"colorbar\":{\"outlinewidth\":0,\"ticks\":\"\"}}}],\"histogram\":[{\"marker\":{\"pattern\":{\"fillmode\":\"overlay\",\"size\":10,\"solidity\":0.2}},\"type\":\"histogram\"}],\"scattergl\":[{\"type\":\"scattergl\",\"marker\":{\"colorbar\":{\"outlinewidth\":0,\"ticks\":\"\"}}}],\"scatter3d\":[{\"type\":\"scatter3d\",\"line\":{\"colorbar\":{\"outlinewidth\":0,\"ticks\":\"\"}},\"marker\":{\"colorbar\":{\"outlinewidth\":0,\"ticks\":\"\"}}}],\"scattermapbox\":[{\"type\":\"scattermapbox\",\"marker\":{\"colorbar\":{\"outlinewidth\":0,\"ticks\":\"\"}}}],\"scatterternary\":[{\"type\":\"scatterternary\",\"marker\":{\"colorbar\":{\"outlinewidth\":0,\"ticks\":\"\"}}}],\"scattercarpet\":[{\"type\":\"scattercarpet\",\"marker\":{\"colorbar\":{\"outlinewidth\":0,\"ticks\":\"\"}}}],\"carpet\":[{\"aaxis\":{\"endlinecolor\":\"#2a3f5f\",\"gridcolor\":\"white\",\"linecolor\":\"white\",\"minorgridcolor\":\"white\",\"startlinecolor\":\"#2a3f5f\"},\"baxis\":{\"endlinecolor\":\"#2a3f5f\",\"gridcolor\":\"white\",\"linecolor\":\"white\",\"minorgridcolor\":\"white\",\"startlinecolor\":\"#2a3f5f\"},\"type\":\"carpet\"}],\"table\":[{\"cells\":{\"fill\":{\"color\":\"#EBF0F8\"},\"line\":{\"color\":\"white\"}},\"header\":{\"fill\":{\"color\":\"#C8D4E3\"},\"line\":{\"color\":\"white\"}},\"type\":\"table\"}],\"barpolar\":[{\"marker\":{\"line\":{\"color\":\"#E5ECF6\",\"width\":0.5},\"pattern\":{\"fillmode\":\"overlay\",\"size\":10,\"solidity\":0.2}},\"type\":\"barpolar\"}],\"pie\":[{\"automargin\":true,\"type\":\"pie\"}]},\"layout\":{\"autotypenumbers\":\"strict\",\"colorway\":[\"#636efa\",\"#EF553B\",\"#00cc96\",\"#ab63fa\",\"#FFA15A\",\"#19d3f3\",\"#FF6692\",\"#B6E880\",\"#FF97FF\",\"#FECB52\"],\"font\":{\"color\":\"#2a3f5f\"},\"hovermode\":\"closest\",\"hoverlabel\":{\"align\":\"left\"},\"paper_bgcolor\":\"white\",\"plot_bgcolor\":\"#E5ECF6\",\"polar\":{\"bgcolor\":\"#E5ECF6\",\"angularaxis\":{\"gridcolor\":\"white\",\"linecolor\":\"white\",\"ticks\":\"\"},\"radialaxis\":{\"gridcolor\":\"white\",\"linecolor\":\"white\",\"ticks\":\"\"}},\"ternary\":{\"bgcolor\":\"#E5ECF6\",\"aaxis\":{\"gridcolor\":\"white\",\"linecolor\":\"white\",\"ticks\":\"\"},\"baxis\":{\"gridcolor\":\"white\",\"linecolor\":\"white\",\"ticks\":\"\"},\"caxis\":{\"gridcolor\":\"white\",\"linecolor\":\"white\",\"ticks\":\"\"}},\"coloraxis\":{\"colorbar\":{\"outlinewidth\":0,\"ticks\":\"\"}},\"colorscale\":{\"sequential\":[[0.0,\"#0d0887\"],[0.1111111111111111,\"#46039f\"],[0.2222222222222222,\"#7201a8\"],[0.3333333333333333,\"#9c179e\"],[0.4444444444444444,\"#bd3786\"],[0.5555555555555556,\"#d8576b\"],[0.6666666666666666,\"#ed7953\"],[0.7777777777777778,\"#fb9f3a\"],[0.8888888888888888,\"#fdca26\"],[1.0,\"#f0f921\"]],\"sequentialminus\":[[0.0,\"#0d0887\"],[0.1111111111111111,\"#46039f\"],[0.2222222222222222,\"#7201a8\"],[0.3333333333333333,\"#9c179e\"],[0.4444444444444444,\"#bd3786\"],[0.5555555555555556,\"#d8576b\"],[0.6666666666666666,\"#ed7953\"],[0.7777777777777778,\"#fb9f3a\"],[0.8888888888888888,\"#fdca26\"],[1.0,\"#f0f921\"]],\"diverging\":[[0,\"#8e0152\"],[0.1,\"#c51b7d\"],[0.2,\"#de77ae\"],[0.3,\"#f1b6da\"],[0.4,\"#fde0ef\"],[0.5,\"#f7f7f7\"],[0.6,\"#e6f5d0\"],[0.7,\"#b8e186\"],[0.8,\"#7fbc41\"],[0.9,\"#4d9221\"],[1,\"#276419\"]]},\"xaxis\":{\"gridcolor\":\"white\",\"linecolor\":\"white\",\"ticks\":\"\",\"title\":{\"standoff\":15},\"zerolinecolor\":\"white\",\"automargin\":true,\"zerolinewidth\":2},\"yaxis\":{\"gridcolor\":\"white\",\"linecolor\":\"white\",\"ticks\":\"\",\"title\":{\"standoff\":15},\"zerolinecolor\":\"white\",\"automargin\":true,\"zerolinewidth\":2},\"scene\":{\"xaxis\":{\"backgroundcolor\":\"#E5ECF6\",\"gridcolor\":\"white\",\"linecolor\":\"white\",\"showbackground\":true,\"ticks\":\"\",\"zerolinecolor\":\"white\",\"gridwidth\":2},\"yaxis\":{\"backgroundcolor\":\"#E5ECF6\",\"gridcolor\":\"white\",\"linecolor\":\"white\",\"showbackground\":true,\"ticks\":\"\",\"zerolinecolor\":\"white\",\"gridwidth\":2},\"zaxis\":{\"backgroundcolor\":\"#E5ECF6\",\"gridcolor\":\"white\",\"linecolor\":\"white\",\"showbackground\":true,\"ticks\":\"\",\"zerolinecolor\":\"white\",\"gridwidth\":2}},\"shapedefaults\":{\"line\":{\"color\":\"#2a3f5f\"}},\"annotationdefaults\":{\"arrowcolor\":\"#2a3f5f\",\"arrowhead\":0,\"arrowwidth\":1},\"geo\":{\"bgcolor\":\"white\",\"landcolor\":\"#E5ECF6\",\"subunitcolor\":\"white\",\"showland\":true,\"showlakes\":true,\"lakecolor\":\"white\"},\"title\":{\"x\":0.05},\"mapbox\":{\"style\":\"light\"}}},\"xaxis\":{\"anchor\":\"y\",\"domain\":[0.0,1.0],\"title\":{\"text\":\"month\"}},\"yaxis\":{\"anchor\":\"x\",\"domain\":[0.0,1.0],\"title\":{\"text\":\"sold\"}},\"legend\":{\"title\":{\"text\":\"point\"},\"tracegroupgap\":0},\"title\":{\"text\":\"\\u041f\\u0440\\u043e\\u0434\\u0430\\u0436\\u0438 \\u0442\\u043e\\u0432\\u0430\\u0440\\u0430 \\u043f\\u043e \\u0442\\u043e\\u0447\\u043a\\u0430\\u043c\"}},                        {\"responsive\": true}                    ).then(function(){\n",
       "                            \n",
       "var gd = document.getElementById('bea91616-a2a4-4831-a4dd-fc78d017de86');\n",
       "var x = new MutationObserver(function (mutations, observer) {{\n",
       "        var display = window.getComputedStyle(gd).display;\n",
       "        if (!display || display === 'none') {{\n",
       "            console.log([gd, 'removed!']);\n",
       "            Plotly.purge(gd);\n",
       "            observer.disconnect();\n",
       "        }}\n",
       "}});\n",
       "\n",
       "// Listen for the removal of the full notebook cells\n",
       "var notebookContainer = gd.closest('#notebook-container');\n",
       "if (notebookContainer) {{\n",
       "    x.observe(notebookContainer, {childList: true});\n",
       "}}\n",
       "\n",
       "// Listen for the clearing of the current output cell\n",
       "var outputEl = gd.closest('.output');\n",
       "if (outputEl) {{\n",
       "    x.observe(outputEl, {childList: true});\n",
       "}}\n",
       "\n",
       "                        })                };                });            </script>        </div>"
      ]
     },
     "metadata": {},
     "output_type": "display_data"
    }
   ],
   "source": [
    "import plotly.express as px\n",
    "product = 'Картридж fabricator_of_consumables_8 Sonder U consumables' # Задаем имя интересующего нас товара\n",
    "df_4_vis = df_4[(df_4['name'] == product) & (df_4['month'] != 10)].copy() # Берем из общего ДФ данные только о нужном товаре, не рассматривая текущий месяц\n",
    "df_6_vis = df_6[(df_6['name'] == product) & (df_6['month'] != 10)].copy()\n",
    "df_8_vis = df_8[(df_8['name'] == product) & (df_8['month'] != 10)].copy()\n",
    "df_17_vis = df_17[(df_17['name'] == product) & (df_17['month'] != 10)].copy()\n",
    "df_4_vis['point'] = 'point_4' # Добавляем маркер магазина\n",
    "df_6_vis['point'] = 'point_6'\n",
    "df_8_vis['point'] = 'point_8'\n",
    "df_17_vis['point'] = 'point_17'\n",
    "df_vis = pd.concat([df_4_vis, df_6_vis, df_8_vis, df_17_vis]) # Собираем в один ДФ\n",
    "# Создаем график\n",
    "fig = px.line(df_vis, x='month', y='sold', color='point', markers=True, title='Продажи товара по точкам')\n",
    "fig.show()"
   ]
  },
  {
   "cell_type": "markdown",
   "id": "df23c037-f5d7-48b0-a0a7-443759d8b668",
   "metadata": {},
   "source": [
    "Данный проект уже внедрён в рабочие процессы и приносит реальную пользу бизнесу. Перемещение товаров между магазинами стало проще и эффективнее. Этот алгоритм частично устраняет человеческий фактор в процессе перемещения товаров: теперь вместо ручного формирования таблицы перемещений, основываясь лишь на текущих остатках, можно опираться на автоматически сформированную таблицу и при необходимости вносить ситуативные правки.\n",
    "\n",
    "Это позволило сократить затраты на логистику, ситуаций, когда кто-то забыл доложить тот или иной товар на данный момент стало значительно меньше. Также стало значительно удобнее отслеживать неликвидные позиции. Алгоритм помог выявить группу товаров, которые ранее были упущены при ручной проверке.\n",
    "\n",
    "В дальнейшем планируется дорабатывать проект. Будут добавлены или изменены критерии отбора на основе пожеланий бизнеса. Также есть идея выделить группу ключевых товаров, которые все время есть в наличии, имеют хорошие продажи и демонстрируют взаимную корреляцию. На их основе я хочу провести регрессионный анализ, чтобы получить усреднённую модель поведения продаж. Это позволит заранее выявлять позиции с падающим спросом и оперативно:\n",
    "— перераспределять запасы,\n",
    "— корректировать цены,\n",
    "— запускать маркетинговые активности,\n",
    "— изменять объёмы закупок.\n",
    "\n",
    "Всё это позволит продавать товар до того, как он перейдёт в категорию неликвидных."
   ]
  },
  {
   "cell_type": "code",
   "execution_count": null,
   "id": "c4227a94-5174-4b87-8a10-716607da8b35",
   "metadata": {},
   "outputs": [],
   "source": []
  }
 ],
 "metadata": {
  "kernelspec": {
   "display_name": "Python [conda env:base] *",
   "language": "python",
   "name": "conda-base-py"
  },
  "language_info": {
   "codemirror_mode": {
    "name": "ipython",
    "version": 3
   },
   "file_extension": ".py",
   "mimetype": "text/x-python",
   "name": "python",
   "nbconvert_exporter": "python",
   "pygments_lexer": "ipython3",
   "version": "3.12.7"
  }
 },
 "nbformat": 4,
 "nbformat_minor": 5
}
